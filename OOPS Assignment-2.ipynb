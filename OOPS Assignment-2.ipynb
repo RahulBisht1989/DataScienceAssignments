{
 "cells": [
  {
   "cell_type": "code",
   "execution_count": 1,
   "id": "79909da1-30a4-473e-b4fc-bc9781b18d7d",
   "metadata": {},
   "outputs": [],
   "source": [
    "#Q1. What is Abstraction in OOps? Explain with an example."
   ]
  },
  {
   "cell_type": "code",
   "execution_count": 2,
   "id": "11432cb1-7084-4a75-8327-3974427ff543",
   "metadata": {},
   "outputs": [
    {
     "data": {
      "text/plain": [
       "'abstraction refers to the concept of hiding unnecessary details \\nand presenting only the essential features of an object or a system to the user. \\nIt allows you to create abstract classes and methods that define the common structure \\nand behavior without providing the specific implementation.'"
      ]
     },
     "execution_count": 2,
     "metadata": {},
     "output_type": "execute_result"
    }
   ],
   "source": [
    "\"\"\"abstraction refers to the concept of hiding unnecessary details \n",
    "and presenting only the essential features of an object or a system to the user. \n",
    "It allows you to create abstract classes and methods that define the common structure \n",
    "and behavior without providing the specific implementation.\"\"\""
   ]
  },
  {
   "cell_type": "code",
   "execution_count": 77,
   "id": "6ba513f3-4212-46e0-93b6-497b5925bf74",
   "metadata": {},
   "outputs": [],
   "source": [
    "import abc\n",
    "class animal_details:\n",
    "    @abc.abstractmethod\n",
    "    def animal(self):\n",
    "        pass\n",
    "    @abc.abstractmethod\n",
    "    def animal_sound(self):\n",
    "        pass"
   ]
  },
  {
   "cell_type": "code",
   "execution_count": 78,
   "id": "6346cdef-13e9-4ec3-bcbe-2f33449e2bf9",
   "metadata": {},
   "outputs": [],
   "source": [
    "class dog(animal_details):\n",
    "    def animal(self):\n",
    "        print('this is dog')\n",
    "    def animal_sound(self):\n",
    "        print('dog barks')"
   ]
  },
  {
   "cell_type": "code",
   "execution_count": 70,
   "id": "a79d46a2-2ad6-453e-80cb-92b4f916eaaa",
   "metadata": {},
   "outputs": [],
   "source": [
    "class cat(animal_details):\n",
    "    def animal(self):\n",
    "        print('this is cat')\n",
    "    def animal_sound(self):\n",
    "        print('cat meows')"
   ]
  },
  {
   "cell_type": "code",
   "execution_count": 79,
   "id": "08f70394-35cb-4db4-ac5c-524dbc5169c9",
   "metadata": {},
   "outputs": [],
   "source": [
    "d=dog()"
   ]
  },
  {
   "cell_type": "code",
   "execution_count": 80,
   "id": "9cd737a0-49e3-4fb7-b9a2-9eac33b37385",
   "metadata": {},
   "outputs": [],
   "source": [
    "c=cat()"
   ]
  },
  {
   "cell_type": "code",
   "execution_count": 81,
   "id": "4f5ab9ba-0ad2-4c4c-a413-355562fe9510",
   "metadata": {},
   "outputs": [
    {
     "name": "stdout",
     "output_type": "stream",
     "text": [
      "this is dog\n"
     ]
    }
   ],
   "source": [
    "d.animal()"
   ]
  },
  {
   "cell_type": "code",
   "execution_count": 82,
   "id": "761cd423-2342-4b3c-adde-fb469b3a314b",
   "metadata": {},
   "outputs": [],
   "source": [
    "d.animal_sound()"
   ]
  },
  {
   "cell_type": "code",
   "execution_count": 75,
   "id": "392b540c-03d3-4bde-a243-b4d65f02eb8d",
   "metadata": {},
   "outputs": [
    {
     "name": "stdout",
     "output_type": "stream",
     "text": [
      "this is cat\n"
     ]
    }
   ],
   "source": [
    "c.animal()"
   ]
  },
  {
   "cell_type": "code",
   "execution_count": 76,
   "id": "8b02ec9e-f543-4d2f-8112-a0967c833a81",
   "metadata": {},
   "outputs": [
    {
     "name": "stdout",
     "output_type": "stream",
     "text": [
      "cat meows\n"
     ]
    }
   ],
   "source": [
    "c.animal_sound()"
   ]
  },
  {
   "cell_type": "code",
   "execution_count": 92,
   "id": "dba52c65-07e7-4c4d-9746-57ecee415db5",
   "metadata": {},
   "outputs": [],
   "source": [
    "#Q2. Differentiate between Abstraction and Encapsulation. Explain with an example."
   ]
  },
  {
   "cell_type": "code",
   "execution_count": 93,
   "id": "86eb818c-e90a-46bb-a607-beb8be2f9f6c",
   "metadata": {},
   "outputs": [
    {
     "data": {
      "text/plain": [
       "\"Encapsulation, on the other hand, is concerned with bundling data and methods together within a class and \\nrestricting direct access to the internal state of an object. It encapsulates the data and methods into \\na single unit, called a class, and provides public interfaces (methods) to interact with the object \\nwhile hiding the implementation details. Encapsulation helps in data protection, code organization, \\nand maintaining the integrity of an object's state.\""
      ]
     },
     "execution_count": 93,
     "metadata": {},
     "output_type": "execute_result"
    }
   ],
   "source": [
    "# Abstraction\n",
    "\"\"\"Abstraction focuses on hiding unnecessary details and presenting only the essential features to the user. \n",
    "It involves creating abstract classes and methods that define a common structure or behavior without \n",
    "providing specific implementation. Abstraction helps in organizing and categorizing related classes, \n",
    "promoting code reusability and maintainability.\"\"\"\n",
    "\n",
    "# Encapsulation\n",
    "\"\"\"Encapsulation, on the other hand, is concerned with bundling data and methods together within a class and \n",
    "restricting direct access to the internal state of an object. It encapsulates the data and methods into \n",
    "a single unit, called a class, and provides public interfaces (methods) to interact with the object \n",
    "while hiding the implementation details. Encapsulation helps in data protection, code organization, \n",
    "and maintaining the integrity of an object's state.\"\"\""
   ]
  },
  {
   "cell_type": "code",
   "execution_count": 94,
   "id": "780256f4-f4e4-4439-a460-f19f8d964298",
   "metadata": {},
   "outputs": [],
   "source": [
    "# Example:\n",
    "# Abstraction\n",
    "import abc\n",
    "class animal_details:\n",
    "    @abc.abstractmethod\n",
    "    def animal(self):\n",
    "        pass\n",
    "    @abc.abstractmethod\n",
    "    def animal_sound(self):\n",
    "        pass\n",
    "    \n",
    "class dog(animal_details):\n",
    "    def animal(self):\n",
    "        print('this is dog')\n",
    "    def animal_sound(self):\n",
    "        print('dog barks')"
   ]
  },
  {
   "cell_type": "code",
   "execution_count": 95,
   "id": "76b2bef4-e35a-42b9-9439-a3e975d87e2c",
   "metadata": {},
   "outputs": [],
   "source": [
    "e=dog()"
   ]
  },
  {
   "cell_type": "code",
   "execution_count": 96,
   "id": "9ec31090-fba8-418a-9d9c-781125dfe65c",
   "metadata": {},
   "outputs": [
    {
     "name": "stdout",
     "output_type": "stream",
     "text": [
      "dog barks\n"
     ]
    }
   ],
   "source": [
    "e.animal_sound()"
   ]
  },
  {
   "cell_type": "code",
   "execution_count": 97,
   "id": "c97d58d5-4f75-4d63-85bc-bc3e56244e90",
   "metadata": {},
   "outputs": [
    {
     "name": "stdout",
     "output_type": "stream",
     "text": [
      "this is dog\n"
     ]
    }
   ],
   "source": [
    "e.animal()"
   ]
  },
  {
   "cell_type": "code",
   "execution_count": 25,
   "id": "a241d811-1f45-4eba-b8f1-9584eb238773",
   "metadata": {},
   "outputs": [],
   "source": [
    "# Example:\n",
    "# Encapsulation\n",
    "class car:\n",
    "    def __init__(self,brand,model,year,price):\n",
    "        self.brand=brand\n",
    "        self.model=model\n",
    "        self.__year=1990\n",
    "        self.__price=0\n",
    "    \n",
    "    def access_cardetails(self):\n",
    "        print(f'year {self.__year}')\n",
    "        print(f'price {self.__price}')\n",
    "        \n",
    "    def set_year(self,year):\n",
    "        self.__year=1990 if year<1990 else year\n",
    "        print(f'updated year {self.__year}')\n",
    "    \n",
    "    def set_price(self,price):\n",
    "        self.__price=0 if price<0 else price\n",
    "        print(f'updated price is {self.__price}')"
   ]
  },
  {
   "cell_type": "code",
   "execution_count": 26,
   "id": "96cba999-ea5a-4e7e-a68c-97e058932f24",
   "metadata": {},
   "outputs": [],
   "source": [
    "used_car= car('Maruti','Brezza',2019,100000)"
   ]
  },
  {
   "cell_type": "code",
   "execution_count": 27,
   "id": "0c2118ae-f4af-4007-8798-70f48e6d250a",
   "metadata": {},
   "outputs": [
    {
     "name": "stdout",
     "output_type": "stream",
     "text": [
      "year 1990\n",
      "price 0\n"
     ]
    }
   ],
   "source": [
    "used_car.access_cardetails()"
   ]
  },
  {
   "cell_type": "code",
   "execution_count": 28,
   "id": "4804f0ca-b2c7-427b-be94-4bbe5eb6158f",
   "metadata": {},
   "outputs": [
    {
     "name": "stdout",
     "output_type": "stream",
     "text": [
      "updated price is 200000\n"
     ]
    }
   ],
   "source": [
    "used_car.set_price(200000)"
   ]
  },
  {
   "cell_type": "code",
   "execution_count": 29,
   "id": "58b5027d-1def-4a5d-aed1-4fb64d510b5e",
   "metadata": {},
   "outputs": [
    {
     "name": "stdout",
     "output_type": "stream",
     "text": [
      "updated year 2019\n"
     ]
    }
   ],
   "source": [
    "used_car.set_year(2019)"
   ]
  },
  {
   "cell_type": "code",
   "execution_count": 31,
   "id": "524c8770-66d0-47bc-842d-f4b3778a88db",
   "metadata": {},
   "outputs": [
    {
     "name": "stdout",
     "output_type": "stream",
     "text": [
      "year 2019\n",
      "price 200000\n"
     ]
    }
   ],
   "source": [
    "used_car.access_cardetails()"
   ]
  },
  {
   "cell_type": "code",
   "execution_count": 32,
   "id": "4abab0de-ff56-4414-8c36-f920a4db92ed",
   "metadata": {},
   "outputs": [],
   "source": [
    "#Q3. What is abc module in python? Why is it used?"
   ]
  },
  {
   "cell_type": "code",
   "execution_count": 33,
   "id": "93e7ab58-2f8b-43f1-8f7d-a4c3663630d6",
   "metadata": {},
   "outputs": [
    {
     "data": {
      "text/plain": [
       "'The abc module in Python stands for \"Abstract Base Classes.\" It provides a way to \\ndefine abstract classes and abstract methods, which are fundamental concepts in object-oriented programming.\\n\\nThe abc module is used to create abstract base classes, \\nwhich are classes that cannot be instantiated directly but serve as blueprints for other classes. \\nAbstract base classes provide a common interface or structure that subclasses are expected to adhere to. \\nThey define a contract that specifies certain methods or attributes that must be implemented by their subclasses.'"
      ]
     },
     "execution_count": 33,
     "metadata": {},
     "output_type": "execute_result"
    }
   ],
   "source": [
    "\"\"\"The abc module in Python stands for \"Abstract Base Classes.\" It provides a way to \n",
    "define abstract classes and abstract methods, which are fundamental concepts in object-oriented programming.\n",
    "\n",
    "The abc module is used to create abstract base classes, \n",
    "which are classes that cannot be instantiated directly but serve as blueprints for other classes. \n",
    "Abstract base classes provide a common interface or structure that subclasses are expected to adhere to. \n",
    "They define a contract that specifies certain methods or attributes that must be implemented by their subclasses.\"\"\""
   ]
  },
  {
   "cell_type": "code",
   "execution_count": 34,
   "id": "dc68e3ea-09b4-4341-8df9-0a19f47e9cd2",
   "metadata": {},
   "outputs": [],
   "source": [
    "# Q4. How can we achieve data abstraction?"
   ]
  },
  {
   "cell_type": "code",
   "execution_count": 35,
   "id": "0483d9d7-096d-4ed1-a21f-2fc6b50138a2",
   "metadata": {},
   "outputs": [
    {
     "data": {
      "text/plain": [
       "'Here are some ways to achieve data abstraction:\\n    Encapsulation: Encapsulation is a fundamental principle of data abstraction. \\n    It involves bundling data and methods together within a class and restricting \\n    direct access to the internal state of an object.\\n    \\n    Access Modifiers: Python does not have strict access modifiers like some other programming languages, \\n    such as Java (e.g., public, private, protected). However, you can use naming conventions to indicate the \\n    intended visibility of attributes and methods. By convention, attributes and methods starting with a \\n    single underscore _ are considered \"protected\" and are intended for internal use within the class or \\n    its subclasses. Attributes and methods starting with double underscores __ (name mangling) are \\n    considered \"private\" and are intended for internal use within the class only.\\n    \\n    Property Decorators: Python\\'s property decorators (@property, @attribute.setter, @attribute.deleter) \\n    provide a way to define computed attributes that can be accessed like regular attributes. \\n    Using property decorators, you can encapsulate the internal representation of an attribute and control \\n    access to it by providing getter, setter, and deleter methods.'"
      ]
     },
     "execution_count": 35,
     "metadata": {},
     "output_type": "execute_result"
    }
   ],
   "source": [
    "\"\"\"we can achieve data abstraction by using classes and defining the appropriate levels \n",
    "of access to the attributes and methods of the class. Data abstraction involves hiding the \n",
    "internal details of an object and exposing only the essential features or interfaces to the outside world.\"\"\"\n",
    "\n",
    "\"\"\"Here are some ways to achieve data abstraction:\n",
    "    Encapsulation: Encapsulation is a fundamental principle of data abstraction. \n",
    "    It involves bundling data and methods together within a class and restricting \n",
    "    direct access to the internal state of an object.\n",
    "    \n",
    "    Access Modifiers: Python does not have strict access modifiers like some other programming languages, \n",
    "    such as Java (e.g., public, private, protected). However, you can use naming conventions to indicate the \n",
    "    intended visibility of attributes and methods. By convention, attributes and methods starting with a \n",
    "    single underscore _ are considered \"protected\" and are intended for internal use within the class or \n",
    "    its subclasses. Attributes and methods starting with double underscores __ (name mangling) are \n",
    "    considered \"private\" and are intended for internal use within the class only.\n",
    "    \n",
    "    Property Decorators: Python's property decorators (@property, @attribute.setter, @attribute.deleter) \n",
    "    provide a way to define computed attributes that can be accessed like regular attributes. \n",
    "    Using property decorators, you can encapsulate the internal representation of an attribute and control \n",
    "    access to it by providing getter, setter, and deleter methods.\"\"\""
   ]
  },
  {
   "cell_type": "code",
   "execution_count": 36,
   "id": "f354c5d9-6cf8-44ba-9488-6e9d9b8eb4ad",
   "metadata": {},
   "outputs": [],
   "source": [
    "#Q5. Can we create an instance of an abstract class? Explain your answer."
   ]
  },
  {
   "cell_type": "code",
   "execution_count": 1,
   "id": "cdf8ca2c-412a-473b-963c-97724db8d5c6",
   "metadata": {},
   "outputs": [
    {
     "data": {
      "text/plain": [
       "'No, we cannot create an instance of an abstract class in Python. \\nAbstract classes are designed to be incomplete and serve as blueprints or templates for other classes. \\nThey define common interfaces, attributes, and behaviors that their subclasses are expected to implement.'"
      ]
     },
     "execution_count": 1,
     "metadata": {},
     "output_type": "execute_result"
    }
   ],
   "source": [
    "\"\"\"No, we cannot create an instance of an abstract class in Python. \n",
    "Abstract classes are designed to be incomplete and serve as blueprints or templates for other classes. \n",
    "They define common interfaces, attributes, and behaviors that their subclasses are expected to implement.\"\"\""
   ]
  },
  {
   "cell_type": "code",
   "execution_count": 7,
   "id": "742dd924-859f-4b8f-a722-a4c741fb84a4",
   "metadata": {},
   "outputs": [],
   "source": [
    "import abc\n",
    "class abstract_class(abc.ABC):\n",
    "    @abc.abstractmethod\n",
    "    def add(self):\n",
    "        pass"
   ]
  },
  {
   "cell_type": "code",
   "execution_count": 8,
   "id": "95e72b98-52e2-4de1-8787-eea38f9af7ae",
   "metadata": {},
   "outputs": [
    {
     "ename": "TypeError",
     "evalue": "Can't instantiate abstract class abstract_class with abstract method add",
     "output_type": "error",
     "traceback": [
      "\u001b[0;31m---------------------------------------------------------------------------\u001b[0m",
      "\u001b[0;31mTypeError\u001b[0m                                 Traceback (most recent call last)",
      "Cell \u001b[0;32mIn[8], line 1\u001b[0m\n\u001b[0;32m----> 1\u001b[0m z\u001b[38;5;241m=\u001b[39m\u001b[43mabstract_class\u001b[49m\u001b[43m(\u001b[49m\u001b[43m)\u001b[49m\n",
      "\u001b[0;31mTypeError\u001b[0m: Can't instantiate abstract class abstract_class with abstract method add"
     ]
    }
   ],
   "source": [
    "z=abstract_class() #error"
   ]
  },
  {
   "cell_type": "code",
   "execution_count": null,
   "id": "5db76e41-1e16-4f26-9b11-ece84dd6fb74",
   "metadata": {},
   "outputs": [],
   "source": []
  }
 ],
 "metadata": {
  "kernelspec": {
   "display_name": "Python 3 (ipykernel)",
   "language": "python",
   "name": "python3"
  },
  "language_info": {
   "codemirror_mode": {
    "name": "ipython",
    "version": 3
   },
   "file_extension": ".py",
   "mimetype": "text/x-python",
   "name": "python",
   "nbconvert_exporter": "python",
   "pygments_lexer": "ipython3",
   "version": "3.10.8"
  }
 },
 "nbformat": 4,
 "nbformat_minor": 5
}
