{
 "cells": [
  {
   "cell_type": "code",
   "execution_count": 1,
   "id": "3bc4ca72-580f-42d7-b258-5dbccf0351b1",
   "metadata": {},
   "outputs": [],
   "source": [
    "#Exception Handling Assignment - 1"
   ]
  },
  {
   "cell_type": "code",
   "execution_count": 2,
   "id": "3655135b-b847-49e6-938f-37c4b60e2961",
   "metadata": {},
   "outputs": [],
   "source": [
    "#Q1. what is an exception in python? write the difference between exceptions and syntax errors."
   ]
  },
  {
   "cell_type": "code",
   "execution_count": 3,
   "id": "f7c603be-e8c9-4493-a085-e3e593ae3a5f",
   "metadata": {},
   "outputs": [
    {
     "data": {
      "text/plain": [
       "'An exception is an error that occurs during the execution of a program, \\ndisrupting the normal flow of the program.'"
      ]
     },
     "execution_count": 3,
     "metadata": {},
     "output_type": "execute_result"
    }
   ],
   "source": [
    "\"\"\"An exception is an error that occurs during the execution of a program, \n",
    "disrupting the normal flow of the program.\"\"\""
   ]
  },
  {
   "cell_type": "code",
   "execution_count": 4,
   "id": "3acc15b7-df15-44c2-bc1d-521ea1739d81",
   "metadata": {},
   "outputs": [
    {
     "data": {
      "text/plain": [
       "'Exceptions are typically raised when there is an error in the logic of the program, \\nsuch as dividing a number by zero, accessing an index that is out of range, \\nor trying to open a file that does not exist.\\n\\nSyntax errors, on the other hand, are errors that occur when you write code that does not conform \\nto the syntax rules of the Python language. These errors are detected by the Python interpreter\\nbefore the program is executed. Examples of syntax errors include misspelling keywords, \\nforgetting to close parentheses or quotation marks, or using operators incorrectly.'"
      ]
     },
     "execution_count": 4,
     "metadata": {},
     "output_type": "execute_result"
    }
   ],
   "source": [
    "\"\"\"Exceptions are typically raised when there is an error in the logic of the program, \n",
    "such as dividing a number by zero, accessing an index that is out of range, \n",
    "or trying to open a file that does not exist.\n",
    "\n",
    "Syntax errors, on the other hand, are errors that occur when you write code that does not conform \n",
    "to the syntax rules of the Python language. These errors are detected by the Python interpreter\n",
    "before the program is executed. Examples of syntax errors include misspelling keywords, \n",
    "forgetting to close parentheses or quotation marks, or using operators incorrectly.\"\"\""
   ]
  },
  {
   "cell_type": "code",
   "execution_count": 6,
   "id": "faf4d1f6-1735-4a21-b041-8c02142f37c1",
   "metadata": {},
   "outputs": [],
   "source": [
    "#Q2. What happens when an exception is not handled? explain with an example."
   ]
  },
  {
   "cell_type": "code",
   "execution_count": 8,
   "id": "716b4adf-4bce-4005-b6b1-c4e2d249fbda",
   "metadata": {},
   "outputs": [
    {
     "data": {
      "text/plain": [
       "'When an exception is not handled, it results in the termination of the program and an error message \\nis displayed, indicating the type of exception that occurred and the corresponding traceback.\\nThis abrupt termination is known as an \"unhandled exception\" or \"uncaught exception.'"
      ]
     },
     "execution_count": 8,
     "metadata": {},
     "output_type": "execute_result"
    }
   ],
   "source": [
    "\"\"\"When an exception is not handled, it results in the termination of the program and an error message \n",
    "is displayed, indicating the type of exception that occurred and the corresponding traceback.\n",
    "This abrupt termination is known as an \"unhandled exception\" or \"uncaught exception.\"\"\""
   ]
  },
  {
   "cell_type": "code",
   "execution_count": 11,
   "id": "5402835d-da7d-4311-a7ad-2b183c1620db",
   "metadata": {},
   "outputs": [],
   "source": [
    "#exception not handled\n",
    "def division(a,b):\n",
    "    result=a/b\n",
    "    return result"
   ]
  },
  {
   "cell_type": "code",
   "execution_count": 13,
   "id": "19a569be-3570-43b2-962a-3a3e8e8b8bc8",
   "metadata": {},
   "outputs": [
    {
     "ename": "ZeroDivisionError",
     "evalue": "division by zero",
     "output_type": "error",
     "traceback": [
      "\u001b[0;31m---------------------------------------------------------------------------\u001b[0m",
      "\u001b[0;31mZeroDivisionError\u001b[0m                         Traceback (most recent call last)",
      "Cell \u001b[0;32mIn[13], line 1\u001b[0m\n\u001b[0;32m----> 1\u001b[0m \u001b[43mdivision\u001b[49m\u001b[43m(\u001b[49m\u001b[38;5;241;43m10\u001b[39;49m\u001b[43m,\u001b[49m\u001b[38;5;241;43m0\u001b[39;49m\u001b[43m)\u001b[49m\n",
      "Cell \u001b[0;32mIn[11], line 2\u001b[0m, in \u001b[0;36mdivision\u001b[0;34m(a, b)\u001b[0m\n\u001b[1;32m      1\u001b[0m \u001b[38;5;28;01mdef\u001b[39;00m \u001b[38;5;21mdivision\u001b[39m(a,b):\n\u001b[0;32m----> 2\u001b[0m     result\u001b[38;5;241m=\u001b[39m\u001b[43ma\u001b[49m\u001b[38;5;241;43m/\u001b[39;49m\u001b[43mb\u001b[49m\n\u001b[1;32m      3\u001b[0m     \u001b[38;5;28;01mreturn\u001b[39;00m result\n",
      "\u001b[0;31mZeroDivisionError\u001b[0m: division by zero"
     ]
    }
   ],
   "source": [
    "division(10,0)"
   ]
  },
  {
   "cell_type": "code",
   "execution_count": 27,
   "id": "cb151615-d2df-4425-bf92-d0a8e96e407a",
   "metadata": {},
   "outputs": [],
   "source": [
    "#Q3. which python statements are used to catch and handle exceptions?Explain with an example."
   ]
  },
  {
   "cell_type": "code",
   "execution_count": null,
   "id": "52053c7e-7de4-4533-8687-b0e929510cae",
   "metadata": {},
   "outputs": [],
   "source": [
    "\"\"\"the try-except statement is used to catch and handle exceptions. \"\"\""
   ]
  },
  {
   "cell_type": "code",
   "execution_count": 24,
   "id": "6a9cf15a-24ea-4afd-a6da-b3ca74ab9ba0",
   "metadata": {},
   "outputs": [],
   "source": [
    "#exception handling\n",
    "def divide(a,b):\n",
    "    try:\n",
    "        result=a/b\n",
    "        return result\n",
    "    except ZeroDivisionError as e:\n",
    "        print(e)"
   ]
  },
  {
   "cell_type": "code",
   "execution_count": 25,
   "id": "a0706ccd-961a-42f7-9022-f562142d791a",
   "metadata": {},
   "outputs": [
    {
     "name": "stdout",
     "output_type": "stream",
     "text": [
      "division by zero\n"
     ]
    }
   ],
   "source": [
    "divide(10,0)"
   ]
  },
  {
   "cell_type": "code",
   "execution_count": 26,
   "id": "6319d4b2-810e-4c58-8970-6888daa7b23e",
   "metadata": {},
   "outputs": [],
   "source": [
    "#Q4. Explain with an example:\n",
    "# a. try and else\n",
    "# b. finally\n",
    "# c. raise"
   ]
  },
  {
   "cell_type": "code",
   "execution_count": 28,
   "id": "f28c0e0e-53d2-4730-8d96-eef39f94c160",
   "metadata": {},
   "outputs": [],
   "source": [
    "# a. try and else\n",
    "#esle block is optional and is executed only if no exception is raised in the try block.\n",
    "def divide2(a,b):\n",
    "    try:\n",
    "        result=a/b\n",
    "    except ZeroDivisionError as e:\n",
    "        print(e)\n",
    "    else:\n",
    "        return result"
   ]
  },
  {
   "cell_type": "code",
   "execution_count": 31,
   "id": "46f2b77c-c5f5-492b-9466-ea38129c73d9",
   "metadata": {},
   "outputs": [
    {
     "data": {
      "text/plain": [
       "5.0"
      ]
     },
     "execution_count": 31,
     "metadata": {},
     "output_type": "execute_result"
    }
   ],
   "source": [
    "divide2(10,2)"
   ]
  },
  {
   "cell_type": "code",
   "execution_count": 32,
   "id": "dc29be03-a1f6-4550-88c8-71d15cd601da",
   "metadata": {},
   "outputs": [
    {
     "name": "stdout",
     "output_type": "stream",
     "text": [
      "division by zero\n"
     ]
    }
   ],
   "source": [
    "divide2(10,0)"
   ]
  },
  {
   "cell_type": "code",
   "execution_count": 35,
   "id": "c0a49ec4-03d2-4026-a4bb-5e7247971dee",
   "metadata": {},
   "outputs": [
    {
     "name": "stdout",
     "output_type": "stream",
     "text": [
      "file closed\n"
     ]
    },
    {
     "ename": "UnsupportedOperation",
     "evalue": "not readable",
     "output_type": "error",
     "traceback": [
      "\u001b[0;31m---------------------------------------------------------------------------\u001b[0m",
      "\u001b[0;31mUnsupportedOperation\u001b[0m                      Traceback (most recent call last)",
      "Cell \u001b[0;32mIn[35], line 5\u001b[0m\n\u001b[1;32m      3\u001b[0m \u001b[38;5;28;01mtry\u001b[39;00m:\n\u001b[1;32m      4\u001b[0m     f\u001b[38;5;241m=\u001b[39m\u001b[38;5;28mopen\u001b[39m(\u001b[38;5;124m'\u001b[39m\u001b[38;5;124mdivision.txt\u001b[39m\u001b[38;5;124m'\u001b[39m, \u001b[38;5;124m'\u001b[39m\u001b[38;5;124mw\u001b[39m\u001b[38;5;124m'\u001b[39m)\n\u001b[0;32m----> 5\u001b[0m     \u001b[43mf\u001b[49m\u001b[38;5;241;43m.\u001b[39;49m\u001b[43mread\u001b[49m\u001b[43m(\u001b[49m\u001b[43m)\u001b[49m\n\u001b[1;32m      6\u001b[0m \u001b[38;5;28;01mexcept\u001b[39;00m \u001b[38;5;167;01mFileNotFoundError\u001b[39;00m \u001b[38;5;28;01mas\u001b[39;00m e:\n\u001b[1;32m      7\u001b[0m     \u001b[38;5;28mprint\u001b[39m(e)\n",
      "\u001b[0;31mUnsupportedOperation\u001b[0m: not readable"
     ]
    }
   ],
   "source": [
    "# b. finally block is used to specify code that should be executed regardless of whether an exception occurred or not. \n",
    "#It ensures that the specified code is always executed, even if an exception is raised or caught.\n",
    "try:\n",
    "    f=open('division.txt', 'w')\n",
    "    f.read()\n",
    "except FileNotFoundError as e:\n",
    "    print(e)\n",
    "finally:\n",
    "    f.close()\n",
    "    print(\"file closed\")"
   ]
  },
  {
   "cell_type": "code",
   "execution_count": 53,
   "id": "aee45aab-9919-4e84-9e83-b69ca4b0b6be",
   "metadata": {},
   "outputs": [
    {
     "name": "stdout",
     "output_type": "stream",
     "text": [
      "Error: Cannot calculate square root of a negative number.\n"
     ]
    }
   ],
   "source": [
    "# c. raise statement is used to explicitly raise an exception in Python. \n",
    "#You can raise built-in exceptions or create custom exceptions by defining your own exception class\n",
    "def calculate_square_root(n):\n",
    "    if n < 0:\n",
    "        raise ValueError(\"Cannot calculate square root of a negative number.\")\n",
    "    else:\n",
    "        return n ** 0.5\n",
    "\n",
    "# Example usage\n",
    "try:\n",
    "    result = calculate_square_root(-9)\n",
    "    print(\"Square root:\", result)\n",
    "except ValueError as e:\n",
    "    print(\"Error:\", str(e))\n"
   ]
  },
  {
   "cell_type": "code",
   "execution_count": null,
   "id": "0df009ae-3353-4aab-ac72-8e90ce03c405",
   "metadata": {},
   "outputs": [],
   "source": [
    "#Q5. What are custom exceptions in python? Why do we need custom Exceptions?Explain with an example."
   ]
  },
  {
   "cell_type": "code",
   "execution_count": 51,
   "id": "ce44549e-25ff-45c0-8843-423a81dbf734",
   "metadata": {},
   "outputs": [
    {
     "data": {
      "text/plain": [
       "'custom exceptions are user-defined exception classes that are created by the programmer to handle \\nspecific types of errors or exceptional conditions that may occur in their code. \\nThese exceptions extend the built-in Exception class or one of its subclasses.'"
      ]
     },
     "execution_count": 51,
     "metadata": {},
     "output_type": "execute_result"
    }
   ],
   "source": [
    "\"\"\"custom exceptions are user-defined exception classes that are created by the programmer to handle \n",
    "specific types of errors or exceptional conditions that may occur in their code. \n",
    "These exceptions extend the built-in Exception class or one of its subclasses.\"\"\""
   ]
  },
  {
   "cell_type": "code",
   "execution_count": 52,
   "id": "51a5ac25-d0ed-447d-b23e-93a6c269d972",
   "metadata": {},
   "outputs": [
    {
     "name": "stdin",
     "output_type": "stream",
     "text": [
      "enter a number 9\n"
     ]
    },
    {
     "name": "stdout",
     "output_type": "stream",
     "text": [
      "3.0\n"
     ]
    }
   ],
   "source": [
    "class custom_error(Exception):\n",
    "    def __init__(self,msg):\n",
    "        self.msg=msg\n",
    "        \n",
    "def square_root(n):\n",
    "    if n<0:\n",
    "        raise custom_error('entered value is less than 0')\n",
    "    else:\n",
    "        r= n** 0.5\n",
    "        print(r)\n",
    "\n",
    "try:\n",
    "    n=int(input('enter a number'))\n",
    "    square_root(n)\n",
    "except custom_error as e:\n",
    "    print(e)    "
   ]
  },
  {
   "cell_type": "code",
   "execution_count": 54,
   "id": "2ec4b44a-3b1a-401d-b466-8e9f2b280683",
   "metadata": {},
   "outputs": [],
   "source": [
    "#Q6. Create a custom xecption class. Use this class to handle an exception."
   ]
  },
  {
   "cell_type": "code",
   "execution_count": 62,
   "id": "2eae0ac8-170c-475d-a5f5-fe644c34b9a9",
   "metadata": {},
   "outputs": [],
   "source": [
    "class insufficient_balance(Exception):\n",
    "    def __init__(self,msg):\n",
    "        self.msg=msg"
   ]
  },
  {
   "cell_type": "code",
   "execution_count": 63,
   "id": "5a6c0027-7447-402a-9f1c-81df221d6672",
   "metadata": {},
   "outputs": [],
   "source": [
    "def withdraw(debit):\n",
    "    balance=50000\n",
    "    if debit>balance:\n",
    "        raise insufficient_balance('balance is not sufficient')\n",
    "    else:\n",
    "        balance-=debit\n",
    "        print(f'update balance is {balance}')"
   ]
  },
  {
   "cell_type": "code",
   "execution_count": 64,
   "id": "488b3464-5bd9-421b-b454-338ed73857da",
   "metadata": {},
   "outputs": [
    {
     "name": "stdin",
     "output_type": "stream",
     "text": [
      "enter a amount to withdraw 60000\n"
     ]
    },
    {
     "name": "stdout",
     "output_type": "stream",
     "text": [
      "balance is not sufficient\n"
     ]
    }
   ],
   "source": [
    "try:\n",
    "    w=int(input('enter a amount to withdraw'))\n",
    "    withdraw(w)\n",
    "except insufficient_balance as e:\n",
    "    print(e)"
   ]
  },
  {
   "cell_type": "code",
   "execution_count": null,
   "id": "a8e36b6a-b12b-40e6-824f-a0fe54556d4a",
   "metadata": {},
   "outputs": [],
   "source": []
  }
 ],
 "metadata": {
  "kernelspec": {
   "display_name": "Python 3 (ipykernel)",
   "language": "python",
   "name": "python3"
  },
  "language_info": {
   "codemirror_mode": {
    "name": "ipython",
    "version": 3
   },
   "file_extension": ".py",
   "mimetype": "text/x-python",
   "name": "python",
   "nbconvert_exporter": "python",
   "pygments_lexer": "ipython3",
   "version": "3.10.8"
  }
 },
 "nbformat": 4,
 "nbformat_minor": 5
}
