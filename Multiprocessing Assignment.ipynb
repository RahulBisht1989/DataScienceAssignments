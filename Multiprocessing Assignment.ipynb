{
 "cells": [
  {
   "cell_type": "code",
   "execution_count": 1,
   "id": "1788a754-214f-4f86-bd78-dbb0cad72e31",
   "metadata": {},
   "outputs": [],
   "source": [
    "#Q1. What is multiprocessing in python? Why is it useful?"
   ]
  },
  {
   "cell_type": "code",
   "execution_count": 2,
   "id": "91bb7b8b-5b73-486b-bea0-a9286dea8148",
   "metadata": {},
   "outputs": [
    {
     "data": {
      "text/plain": [
       "'\\nIn Python, multiprocessing is a module that allows the execution of multiple processes concurrently. \\nIt provides a way to leverage the capabilities of modern multi-core processors and distribute the workload\\namong them, thereby achieving improved performance and efficiency in certain types of tasks.\\n\\nThe multiprocessing module enables the creation of separate processes, each with its own memory space, interpreter,\\nand resources. These processes can run simultaneously and independently of each other, performing tasks in \\nparallel. This is in contrast to the more common approach of using threads, where multiple threads share the same \\nmemory space and are subject to the Global Interpreter Lock (GIL) in CPython, which limits true parallelism.\\n\\nHere are some reasons why multiprocessing is useful in Python:\\n\\nIncreased Performance: By utilizing multiple processes, multiprocessing allows you to divide a computationally \\nintensive task into smaller sub-tasks that can be executed concurrently. This can lead to significant speedups, \\nparticularly when you have access to multiple CPU cores.\\n\\nImproved Responsiveness: By offloading CPU-bound tasks to separate processes, you can prevent your program from \\nbecoming unresponsive or freezing, especially when dealing with long-running operations. This is particularly \\nrelevant for applications with user interfaces or servers handling multiple client requests.\\n\\nParallelism for IO-bound Tasks: While the Global Interpreter Lock limits the parallel execution of CPU-bound tasks \\nin Python threads, IO-bound tasks such as network operations, disk I/O, or database queries can benefit from \\nmultiprocessing. Each process can independently perform IO operations without being blocked by others.\\n\\nEnhanced Resource Isolation: Since each process has its own memory space and interpreter, they are isolated from \\none another. This isolation provides improved fault tolerance, as errors in one process are less likely to affect \\nothers. It also enables better utilization of system resources, as each process can have its own memory limits and \\nsystem permissions.\\n'"
      ]
     },
     "execution_count": 2,
     "metadata": {},
     "output_type": "execute_result"
    }
   ],
   "source": [
    "\"\"\"\n",
    "In Python, multiprocessing is a module that allows the execution of multiple processes concurrently. \n",
    "It provides a way to leverage the capabilities of modern multi-core processors and distribute the workload\n",
    "among them, thereby achieving improved performance and efficiency in certain types of tasks.\n",
    "\n",
    "The multiprocessing module enables the creation of separate processes, each with its own memory space, interpreter,\n",
    "and resources. These processes can run simultaneously and independently of each other, performing tasks in \n",
    "parallel. This is in contrast to the more common approach of using threads, where multiple threads share the same \n",
    "memory space and are subject to the Global Interpreter Lock (GIL) in CPython, which limits true parallelism.\n",
    "\n",
    "Here are some reasons why multiprocessing is useful in Python:\n",
    "\n",
    "Increased Performance: By utilizing multiple processes, multiprocessing allows you to divide a computationally \n",
    "intensive task into smaller sub-tasks that can be executed concurrently. This can lead to significant speedups, \n",
    "particularly when you have access to multiple CPU cores.\n",
    "\n",
    "Improved Responsiveness: By offloading CPU-bound tasks to separate processes, you can prevent your program from \n",
    "becoming unresponsive or freezing, especially when dealing with long-running operations. This is particularly \n",
    "relevant for applications with user interfaces or servers handling multiple client requests.\n",
    "\n",
    "Parallelism for IO-bound Tasks: While the Global Interpreter Lock limits the parallel execution of CPU-bound tasks \n",
    "in Python threads, IO-bound tasks such as network operations, disk I/O, or database queries can benefit from \n",
    "multiprocessing. Each process can independently perform IO operations without being blocked by others.\n",
    "\n",
    "Enhanced Resource Isolation: Since each process has its own memory space and interpreter, they are isolated from \n",
    "one another. This isolation provides improved fault tolerance, as errors in one process are less likely to affect \n",
    "others. It also enables better utilization of system resources, as each process can have its own memory limits and \n",
    "system permissions.\n",
    "\"\"\""
   ]
  },
  {
   "cell_type": "code",
   "execution_count": 3,
   "id": "9525f565-0134-4ab3-96fa-11179d6e6903",
   "metadata": {},
   "outputs": [],
   "source": [
    "#Q2. What are the differences between multiprocessing and multithreading?"
   ]
  },
  {
   "cell_type": "code",
   "execution_count": 4,
   "id": "5b7538a6-42f8-4315-9743-6c2d5a248159",
   "metadata": {},
   "outputs": [
    {
     "data": {
      "text/plain": [
       "'\\nMultiprocessing and multithreading are both techniques used for achieving concurrent execution in a program, but they differ in several key aspects. Here are the main differences between multiprocessing and multithreading:\\n\\nNature of Execution:\\nMultiprocessing: In multiprocessing, multiple processes are created, each with its own memory space and interpreter. These processes run independently of each other and can execute tasks in parallel on separate CPU cores. Processes do not share memory by default, so communication between them requires explicit inter-process communication (IPC) mechanisms.\\nMultithreading: In multithreading, multiple threads are created within a single process. Threads share the same memory space and can access the same data directly. They run concurrently, and the operating system or language runtime scheduler assigns CPU time slices to each thread. However, due to the Global Interpreter Lock (GIL) in CPython, true parallelism is limited, and only one thread can execute Python bytecode at a time.\\n\\nParallelism:\\nMultiprocessing: Multiprocessing is capable of achieving true parallelism. Each process runs on a separate CPU core, allowing for efficient utilization of available hardware resources. It is well-suited for CPU-intensive tasks that can be divided into independent subtasks.\\nMultithreading: Multithreading in CPython does not provide true parallelism due to the GIL. Only one thread can execute Python bytecode at a time, even on multi-core processors. However, it can still offer performance benefits for IO-bound tasks or when using external libraries that release the GIL.\\n\\nMemory and Resource Isolation:\\nMultiprocessing: Each process in multiprocessing has its own memory space, which provides strong isolation between processes. It allows for better fault tolerance, as errors in one process do not affect others directly. Each process also has its own system resources, such as file handles or network sockets.\\nMultithreading: Threads within a process share the same memory space, which means they can directly access and modify the same data. This shared memory can simplify data sharing between threads but requires proper synchronization mechanisms, such as locks or semaphores, to prevent data corruption due to simultaneous access. Resource sharing within threads can lead to more complex code and potential concurrency issues.\\n\\nComplexity:\\nMultiprocessing: Implementing multiprocessing can be more complex than multithreading due to the need for explicit IPC mechanisms and managing communication between processes. Inter-process communication can involve techniques like pipes, queues, shared memory, or sockets, adding complexity to the code.\\nMultithreading: Multithreading is generally simpler to implement since threads share the same memory space and can communicate through shared data directly. However, the need for synchronization mechanisms to ensure thread safety can introduce its own set of complexities, such as deadlocks, race conditions, and priority inversion.\\n'"
      ]
     },
     "execution_count": 4,
     "metadata": {},
     "output_type": "execute_result"
    }
   ],
   "source": [
    "\"\"\"\n",
    "Multiprocessing and multithreading are both techniques used for achieving concurrent execution in a program, but they differ in several key aspects. Here are the main differences between multiprocessing and multithreading:\n",
    "\n",
    "Nature of Execution:\n",
    "Multiprocessing: In multiprocessing, multiple processes are created, each with its own memory space and interpreter. These processes run independently of each other and can execute tasks in parallel on separate CPU cores. Processes do not share memory by default, so communication between them requires explicit inter-process communication (IPC) mechanisms.\n",
    "Multithreading: In multithreading, multiple threads are created within a single process. Threads share the same memory space and can access the same data directly. They run concurrently, and the operating system or language runtime scheduler assigns CPU time slices to each thread. However, due to the Global Interpreter Lock (GIL) in CPython, true parallelism is limited, and only one thread can execute Python bytecode at a time.\n",
    "\n",
    "Parallelism:\n",
    "Multiprocessing: Multiprocessing is capable of achieving true parallelism. Each process runs on a separate CPU core, allowing for efficient utilization of available hardware resources. It is well-suited for CPU-intensive tasks that can be divided into independent subtasks.\n",
    "Multithreading: Multithreading in CPython does not provide true parallelism due to the GIL. Only one thread can execute Python bytecode at a time, even on multi-core processors. However, it can still offer performance benefits for IO-bound tasks or when using external libraries that release the GIL.\n",
    "\n",
    "Memory and Resource Isolation:\n",
    "Multiprocessing: Each process in multiprocessing has its own memory space, which provides strong isolation between processes. It allows for better fault tolerance, as errors in one process do not affect others directly. Each process also has its own system resources, such as file handles or network sockets.\n",
    "Multithreading: Threads within a process share the same memory space, which means they can directly access and modify the same data. This shared memory can simplify data sharing between threads but requires proper synchronization mechanisms, such as locks or semaphores, to prevent data corruption due to simultaneous access. Resource sharing within threads can lead to more complex code and potential concurrency issues.\n",
    "\n",
    "Complexity:\n",
    "Multiprocessing: Implementing multiprocessing can be more complex than multithreading due to the need for explicit IPC mechanisms and managing communication between processes. Inter-process communication can involve techniques like pipes, queues, shared memory, or sockets, adding complexity to the code.\n",
    "Multithreading: Multithreading is generally simpler to implement since threads share the same memory space and can communicate through shared data directly. However, the need for synchronization mechanisms to ensure thread safety can introduce its own set of complexities, such as deadlocks, race conditions, and priority inversion.\n",
    "\"\"\""
   ]
  },
  {
   "cell_type": "code",
   "execution_count": 5,
   "id": "57143c29-0f7d-4360-b7cb-9ebe2c8dd52b",
   "metadata": {},
   "outputs": [],
   "source": [
    "#Q3. Write a python code to create a process using the multiprocessing module."
   ]
  },
  {
   "cell_type": "code",
   "execution_count": 9,
   "id": "0697c936-ed93-4432-941a-c0e1c6e16222",
   "metadata": {},
   "outputs": [
    {
     "name": "stdout",
     "output_type": "stream",
     "text": [
      "This is a child process\n",
      "Main process completed.\n"
     ]
    }
   ],
   "source": [
    "import multiprocessing\n",
    "\n",
    "def child_process():\n",
    "    print('This is a child process')\n",
    "    \n",
    "if __name__=='__main__':\n",
    "    process=multiprocessing.Process(target=child_process)\n",
    "    process.start()\n",
    "    process.join()\n",
    "    print(\"Main process completed.\")"
   ]
  },
  {
   "cell_type": "code",
   "execution_count": 10,
   "id": "dfb0ba66-10bf-4a40-9c63-4ef1037d4946",
   "metadata": {},
   "outputs": [],
   "source": [
    "#Q4. What is a multiprocessing pool in python? Why is it used?"
   ]
  },
  {
   "cell_type": "code",
   "execution_count": null,
   "id": "d6da4990-f86c-411d-921e-04d2078e4137",
   "metadata": {},
   "outputs": [],
   "source": [
    "\"\"\"\n",
    "In Python, a multiprocessing pool is a feature provided by the multiprocessing module that allows you to manage \n",
    "a pool of worker processes. It provides a convenient way to parallelize the execution of a function across \n",
    "multiple input values, distributing the workload among the available processes in the pool.\n",
    "\n",
    "The multiprocessing.Pool class provides a high-level interface for creating and managing a pool of \n",
    "worker processes.\n",
    "\"\"\""
   ]
  },
  {
   "cell_type": "code",
   "execution_count": null,
   "id": "466561be-e45e-48b8-854e-9ba226f812af",
   "metadata": {},
   "outputs": [],
   "source": [
    "#Q5. How can we create a pool of worker processes in python using the multiprocessing module?"
   ]
  },
  {
   "cell_type": "code",
   "execution_count": 11,
   "id": "d8ac43ea-7533-4d4c-be61-0bdcf124a259",
   "metadata": {},
   "outputs": [
    {
     "name": "stdout",
     "output_type": "stream",
     "text": [
      "[4, 9, 16, 25, 36]\n"
     ]
    }
   ],
   "source": [
    "import multiprocessing\n",
    "\n",
    "def square(value):\n",
    "    result=value**2\n",
    "    return result\n",
    "\n",
    "if __name__=='__main__':\n",
    "    pool=multiprocessing.Pool(processes=4)\n",
    "    \n",
    "    input_value=[2,3,4,5,6]\n",
    "    \n",
    "    output=pool.map(square,input_value) #func and args\n",
    "    \n",
    "    pool.close()\n",
    "    pool.join()\n",
    "    \n",
    "    print(output)"
   ]
  },
  {
   "cell_type": "code",
   "execution_count": 12,
   "id": "dbcdb260-5eff-4859-912b-72ea2d534701",
   "metadata": {},
   "outputs": [],
   "source": [
    "#Q6. Write a python program to create 4 processes, each process should print a different number using the\n",
    "#multiprocessing module in python."
   ]
  },
  {
   "cell_type": "code",
   "execution_count": 14,
   "id": "2207ccc1-0ef8-4464-9ddc-0bad84852617",
   "metadata": {},
   "outputs": [
    {
     "name": "stdout",
     "output_type": "stream",
     "text": [
      "Process 1: This is number 1.\n",
      "Process 2: This is number 2.\n",
      "Process 3: This is number 3.\n",
      "Process 4: This is number 4.\n"
     ]
    }
   ],
   "source": [
    "import multiprocessing\n",
    "\n",
    "def print_num(num):\n",
    "    print(f\"Process {num}: This is number {num}.\")\n",
    "    \n",
    "\n",
    "if __name__=='__main__':\n",
    "    l=[]\n",
    "    \n",
    "    for i in range(4):\n",
    "        process=multiprocessing.Process(target=print_num,args=(i+1,))\n",
    "        l.append(process)\n",
    "        process.start()\n",
    "        \n",
    "    for process in l:\n",
    "        process.join()"
   ]
  },
  {
   "cell_type": "code",
   "execution_count": null,
   "id": "c223a563-8625-4e7d-9af4-1c6f7aec1a36",
   "metadata": {},
   "outputs": [],
   "source": []
  }
 ],
 "metadata": {
  "kernelspec": {
   "display_name": "Python 3 (ipykernel)",
   "language": "python",
   "name": "python3"
  },
  "language_info": {
   "codemirror_mode": {
    "name": "ipython",
    "version": 3
   },
   "file_extension": ".py",
   "mimetype": "text/x-python",
   "name": "python",
   "nbconvert_exporter": "python",
   "pygments_lexer": "ipython3",
   "version": "3.10.8"
  }
 },
 "nbformat": 4,
 "nbformat_minor": 5
}
