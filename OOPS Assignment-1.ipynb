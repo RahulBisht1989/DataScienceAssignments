{
 "cells": [
  {
   "cell_type": "code",
   "execution_count": 1,
   "id": "76301b4e-f9e1-4f6a-a126-49afa80f1d9d",
   "metadata": {},
   "outputs": [],
   "source": [
    "#Q1. Explain Class and Object with respect to Object-Oriented Programming. Give a suitable example."
   ]
  },
  {
   "cell_type": "code",
   "execution_count": 2,
   "id": "1070b3f7-98f7-45f3-9511-bc9981392eeb",
   "metadata": {},
   "outputs": [
    {
     "data": {
      "text/plain": [
       "'An object, on the other hand, is an instance of a class. \\nIt represents a specific entity or a unique occurrence of a class. \\nWhen you create an object, you are instantiating a class, \\nwhich means you are creating a specific instance of that class with its own unique set of data.'"
      ]
     },
     "execution_count": 2,
     "metadata": {},
     "output_type": "execute_result"
    }
   ],
   "source": [
    "#Class\n",
    "\"\"\"In object-oriented programming (OOP), a class is a blueprint or template that defines the properties \n",
    "and behaviors of objects. It serves as a blueprint for creating objects of a specific type. \n",
    "A class encapsulates data (attributes) and functions (methods) that operate on that data.\"\"\"\n",
    "\n",
    "#Object\n",
    "\"\"\"An object, on the other hand, is an instance of a class. \n",
    "It represents a specific entity or a unique occurrence of a class. \n",
    "When you create an object, you are instantiating a class, \n",
    "which means you are creating a specific instance of that class with its own unique set of data.\"\"\""
   ]
  },
  {
   "cell_type": "code",
   "execution_count": 3,
   "id": "3136f84f-873e-4518-9099-0bd06869ef25",
   "metadata": {},
   "outputs": [],
   "source": [
    "class car:\n",
    "    def __init__(self,brand,model,year):\n",
    "        self.brand=brand\n",
    "        self.model=model\n",
    "        self.year=year"
   ]
  },
  {
   "cell_type": "code",
   "execution_count": 4,
   "id": "cc6d6a2b-90c3-4b23-91a6-cd695ff13bd7",
   "metadata": {},
   "outputs": [],
   "source": [
    "obj_car = car('toyota','Innova',2023)  #object"
   ]
  },
  {
   "cell_type": "code",
   "execution_count": 5,
   "id": "3772c520-b149-43aa-a0f4-e0440776b4ab",
   "metadata": {},
   "outputs": [
    {
     "data": {
      "text/plain": [
       "'toyota'"
      ]
     },
     "execution_count": 5,
     "metadata": {},
     "output_type": "execute_result"
    }
   ],
   "source": [
    "obj_car.brand"
   ]
  },
  {
   "cell_type": "code",
   "execution_count": 6,
   "id": "544ddc8a-889d-4d6e-a3fe-b269def8a9a2",
   "metadata": {},
   "outputs": [
    {
     "data": {
      "text/plain": [
       "2023"
      ]
     },
     "execution_count": 6,
     "metadata": {},
     "output_type": "execute_result"
    }
   ],
   "source": [
    "obj_car.year"
   ]
  },
  {
   "cell_type": "code",
   "execution_count": 7,
   "id": "b9100a62-da4a-43b0-a4a1-acea00b33465",
   "metadata": {},
   "outputs": [],
   "source": [
    "#Q2. Name the four pillars of OOPs."
   ]
  },
  {
   "cell_type": "code",
   "execution_count": 8,
   "id": "148d0663-b478-48ce-9825-aa508defe916",
   "metadata": {},
   "outputs": [
    {
     "data": {
      "text/plain": [
       "'Polymorphism,encapsulation,abstraction and inheritance '"
      ]
     },
     "execution_count": 8,
     "metadata": {},
     "output_type": "execute_result"
    }
   ],
   "source": [
    "\"\"\"Polymorphism,encapsulation,abstraction and inheritance \"\"\""
   ]
  },
  {
   "cell_type": "code",
   "execution_count": 9,
   "id": "6768d6a2-dd1e-4a3c-9159-e177fee4e2c7",
   "metadata": {},
   "outputs": [],
   "source": [
    "#Q3. Explain why the __init__() function is used. Give a suitable example."
   ]
  },
  {
   "cell_type": "code",
   "execution_count": 10,
   "id": "079a97b3-007e-4887-8feb-d730150372ff",
   "metadata": {},
   "outputs": [
    {
     "data": {
      "text/plain": [
       "'The __init__() function is a special method in Python classes that is \\nautomatically called when an object of the class is created. \\nIt is commonly known as the constructor method. \\nThe primary purpose of the __init__() method is to initialize the attributes (data) of the object.'"
      ]
     },
     "execution_count": 10,
     "metadata": {},
     "output_type": "execute_result"
    }
   ],
   "source": [
    "\"\"\"The __init__() function is a special method in Python classes that is \n",
    "automatically called when an object of the class is created. \n",
    "It is commonly known as the constructor method. \n",
    "The primary purpose of the __init__() method is to initialize the attributes (data) of the object.\"\"\""
   ]
  },
  {
   "cell_type": "code",
   "execution_count": 11,
   "id": "1c1c10de-6ed6-4221-b5ea-467408137b64",
   "metadata": {},
   "outputs": [],
   "source": [
    "class person:\n",
    "    def __init__(self,name,age):\n",
    "        self.name=name\n",
    "        self.age=age\n",
    "        \n",
    "    def person_intro(self):\n",
    "        print(f\"His name is {self.name} and he is {self.age} year old\")"
   ]
  },
  {
   "cell_type": "code",
   "execution_count": 12,
   "id": "d46bd685-edb2-48dd-81cd-d7d917962a7d",
   "metadata": {},
   "outputs": [],
   "source": [
    "p_detail= person('Yash',28)"
   ]
  },
  {
   "cell_type": "code",
   "execution_count": 14,
   "id": "64088b6c-aee1-4677-9304-d11f12cea54f",
   "metadata": {},
   "outputs": [
    {
     "name": "stdout",
     "output_type": "stream",
     "text": [
      "His name is Yash and he is 28 year old\n"
     ]
    }
   ],
   "source": [
    "p_detail.person_intro()"
   ]
  },
  {
   "cell_type": "code",
   "execution_count": 15,
   "id": "66a10bb9-bb27-4025-9f3f-818ca0965e06",
   "metadata": {},
   "outputs": [],
   "source": [
    "#Q4. Why self is used in OOPs?"
   ]
  },
  {
   "cell_type": "code",
   "execution_count": 17,
   "id": "7c45485c-ac23-492c-9fd9-6c913545fee2",
   "metadata": {},
   "outputs": [
    {
     "data": {
      "text/plain": [
       "\"the self keyword is used to refer to the instance (object) of a class within the class's methods. \\nIt is a convention in Python, but the actual name of the first parameter in a method can be any name, \\nnot necessarily self.\""
      ]
     },
     "execution_count": 17,
     "metadata": {},
     "output_type": "execute_result"
    }
   ],
   "source": [
    "\"\"\"the self keyword is used to refer to the instance (object) of a class within the class's methods. \n",
    "It is a convention in Python, but the actual name of the first parameter in a method can be any name, \n",
    "not necessarily self.\"\"\""
   ]
  },
  {
   "cell_type": "code",
   "execution_count": 18,
   "id": "d9418d53-a29a-4c50-9ee2-eb6e90f1c815",
   "metadata": {},
   "outputs": [],
   "source": [
    "#Q5. What is inheritance? Give an example for each type of inheritance."
   ]
  },
  {
   "cell_type": "code",
   "execution_count": 19,
   "id": "a9cabcfd-cc4b-4045-8b5f-2e19a0d85701",
   "metadata": {},
   "outputs": [
    {
     "data": {
      "text/plain": [
       "'that allows a class to acquire the properties (attributes) and behaviors (methods) of another class. \\nThe class that inherits from another class is called the derived class or subclass, \\nand the class being inherited from is called the base class or superclass. \\nInheritance promotes code reuse and enables the creation of a hierarchical structure of classes.'"
      ]
     },
     "execution_count": 19,
     "metadata": {},
     "output_type": "execute_result"
    }
   ],
   "source": [
    "\"\"\"that allows a class to acquire the properties (attributes) and behaviors (methods) of another class. \n",
    "The class that inherits from another class is called the derived class or subclass, \n",
    "and the class being inherited from is called the base class or superclass. \n",
    "Inheritance promotes code reuse and enables the creation of a hierarchical structure of classes.\"\"\""
   ]
  },
  {
   "cell_type": "code",
   "execution_count": 20,
   "id": "5c51dadc-8e7a-462f-b93d-1dc94452eb3d",
   "metadata": {},
   "outputs": [],
   "source": [
    "class animal:\n",
    "    def __init__(self,name):\n",
    "        self.name=name\n",
    "    def cat(self):\n",
    "        print('Cat says Meoww')\n",
    "class mamal(animal):\n",
    "    def dog(self):\n",
    "        print('Dog says Woof')\n",
    "        \n",
    "    def any_animal(self):\n",
    "        print(f'what sound {self.name} make?')"
   ]
  },
  {
   "cell_type": "code",
   "execution_count": 21,
   "id": "47d72a76-6288-40a8-bf97-579b7df9c87e",
   "metadata": {},
   "outputs": [],
   "source": [
    "a=mamal('cow')"
   ]
  },
  {
   "cell_type": "code",
   "execution_count": 23,
   "id": "4df39453-251c-4026-aee2-1ea2b0bd1a4a",
   "metadata": {},
   "outputs": [
    {
     "name": "stdout",
     "output_type": "stream",
     "text": [
      "Cat says Meoww\n"
     ]
    }
   ],
   "source": [
    "a.cat()"
   ]
  },
  {
   "cell_type": "code",
   "execution_count": 24,
   "id": "5fffb6d4-473b-46b4-8cfe-bc80c8796b02",
   "metadata": {},
   "outputs": [
    {
     "name": "stdout",
     "output_type": "stream",
     "text": [
      "Dog says Woof\n"
     ]
    }
   ],
   "source": [
    "a.dog()"
   ]
  },
  {
   "cell_type": "code",
   "execution_count": 25,
   "id": "1ef804df-9b65-4dd1-a597-0686d29bfc7b",
   "metadata": {},
   "outputs": [
    {
     "name": "stdout",
     "output_type": "stream",
     "text": [
      "what sound cow make?\n"
     ]
    }
   ],
   "source": [
    "a.any_animal()"
   ]
  },
  {
   "cell_type": "code",
   "execution_count": null,
   "id": "9ef6f4d6-e0b4-4433-8be6-4d3d4e2c9bf4",
   "metadata": {},
   "outputs": [],
   "source": []
  }
 ],
 "metadata": {
  "kernelspec": {
   "display_name": "Python 3 (ipykernel)",
   "language": "python",
   "name": "python3"
  },
  "language_info": {
   "codemirror_mode": {
    "name": "ipython",
    "version": 3
   },
   "file_extension": ".py",
   "mimetype": "text/x-python",
   "name": "python",
   "nbconvert_exporter": "python",
   "pygments_lexer": "ipython3",
   "version": "3.10.8"
  }
 },
 "nbformat": 4,
 "nbformat_minor": 5
}
