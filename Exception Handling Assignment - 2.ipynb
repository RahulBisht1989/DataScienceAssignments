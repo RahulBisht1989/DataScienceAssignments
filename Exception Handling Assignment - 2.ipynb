{
 "cells": [
  {
   "cell_type": "code",
   "execution_count": 1,
   "id": "9b53ac84-aa03-4c7e-af25-45d60c39fc0e",
   "metadata": {},
   "outputs": [],
   "source": [
    "#Q1. Explain why we have to use the Exception class while creating a Custom Exception."
   ]
  },
  {
   "cell_type": "code",
   "execution_count": 1,
   "id": "3b0ecf80-f7c0-4c09-86b9-aaff6279d4a5",
   "metadata": {},
   "outputs": [
    {
     "data": {
      "text/plain": [
       "'In Python, the Exception class serves as the base class for all exceptions. \\nWhen creating a custom exception, it is recommended to inherit from the Exception class because it \\nprovides a consistent and standardized way to handle and propagate exceptions in Python. \\nusing the Exception class as the base class for custom exceptions promotes code clarity, consistency, \\nand interoperability within the Python exception handling system.'"
      ]
     },
     "execution_count": 1,
     "metadata": {},
     "output_type": "execute_result"
    }
   ],
   "source": [
    "\"\"\"In Python, the Exception class serves as the base class for all exceptions. \n",
    "When creating a custom exception, it is recommended to inherit from the Exception class because it \n",
    "provides a consistent and standardized way to handle and propagate exceptions in Python. \n",
    "using the Exception class as the base class for custom exceptions promotes code clarity, consistency, \n",
    "and interoperability within the Python exception handling system.\"\"\""
   ]
  },
  {
   "cell_type": "code",
   "execution_count": 2,
   "id": "8bd64d6a-8e16-413f-876f-3566c862390b",
   "metadata": {},
   "outputs": [],
   "source": [
    "#Q2. Write a python program to print Python Exception Hierarchy."
   ]
  },
  {
   "cell_type": "code",
   "execution_count": 8,
   "id": "19f798fb-102f-45e0-86ec-49522297ab19",
   "metadata": {},
   "outputs": [
    {
     "name": "stdout",
     "output_type": "stream",
     "text": [
      "BaseException\n",
      "  Exception\n",
      "    TypeError\n",
      "      FloatOperation\n",
      "      MultipartConversionError\n",
      "    StopAsyncIteration\n",
      "    StopIteration\n",
      "    ImportError\n",
      "      ModuleNotFoundError\n",
      "      ZipImportError\n",
      "    OSError\n",
      "      ConnectionError\n",
      "        BrokenPipeError\n",
      "        ConnectionAbortedError\n",
      "        ConnectionRefusedError\n",
      "        ConnectionResetError\n",
      "          RemoteDisconnected\n",
      "      BlockingIOError\n",
      "      ChildProcessError\n",
      "      FileExistsError\n",
      "      FileNotFoundError\n",
      "      IsADirectoryError\n",
      "      NotADirectoryError\n",
      "      InterruptedError\n",
      "        InterruptedSystemCall\n",
      "      PermissionError\n",
      "      ProcessLookupError\n",
      "      TimeoutError\n",
      "      UnsupportedOperation\n",
      "      itimer_error\n",
      "      herror\n",
      "      gaierror\n",
      "      SSLError\n",
      "        SSLCertVerificationError\n",
      "        SSLZeroReturnError\n",
      "        SSLWantWriteError\n",
      "        SSLWantReadError\n",
      "        SSLSyscallError\n",
      "        SSLEOFError\n",
      "      Error\n",
      "        SameFileError\n",
      "      SpecialFileError\n",
      "      ExecError\n",
      "      ReadError\n",
      "      URLError\n",
      "        HTTPError\n",
      "        ContentTooShortError\n",
      "      BadGzipFile\n",
      "    EOFError\n",
      "      IncompleteReadError\n",
      "    RuntimeError\n",
      "      RecursionError\n",
      "      NotImplementedError\n",
      "        ZMQVersionError\n",
      "        StdinNotImplementedError\n",
      "      _DeadlockError\n",
      "      BrokenBarrierError\n",
      "      BrokenExecutor\n",
      "        BrokenThreadPool\n",
      "      SendfileNotAvailableError\n",
      "      ExtractionError\n",
      "      VariableError\n",
      "    NameError\n",
      "      UnboundLocalError\n",
      "    AttributeError\n",
      "      FrozenInstanceError\n",
      "    SyntaxError\n",
      "      IndentationError\n",
      "        TabError\n",
      "    LookupError\n",
      "      IndexError\n",
      "      KeyError\n",
      "        NoSuchKernel\n",
      "        UnknownBackend\n",
      "      CodecRegistryError\n",
      "    ValueError\n",
      "      UnicodeError\n",
      "        UnicodeEncodeError\n",
      "        UnicodeDecodeError\n",
      "        UnicodeTranslateError\n",
      "      UnsupportedOperation\n",
      "      JSONDecodeError\n",
      "      SSLCertVerificationError\n",
      "      Error\n",
      "      UnsupportedDigestmodError\n",
      "      IllegalMonthError\n",
      "      IllegalWeekdayError\n",
      "      ParserError\n",
      "      ClassNotFound\n",
      "      ClipboardEmpty\n",
      "      MessageDefect\n",
      "        NoBoundaryInMultipartDefect\n",
      "        StartBoundaryNotFoundDefect\n",
      "        CloseBoundaryNotFoundDefect\n",
      "        FirstHeaderLineIsContinuationDefect\n",
      "        MisplacedEnvelopeHeaderDefect\n",
      "        MissingHeaderBodySeparatorDefect\n",
      "        MultipartInvariantViolationDefect\n",
      "        InvalidMultipartContentTransferEncodingDefect\n",
      "        UndecodableBytesDefect\n",
      "        InvalidBase64PaddingDefect\n",
      "        InvalidBase64CharactersDefect\n",
      "        InvalidBase64LengthDefect\n",
      "        HeaderDefect\n",
      "          InvalidHeaderDefect\n",
      "          HeaderMissingRequiredValue\n",
      "          NonPrintableDefect\n",
      "          ObsoleteHeaderDefect\n",
      "          NonASCIILocalPartDefect\n",
      "          InvalidDateDefect\n",
      "      MacroToEdit\n",
      "      InvalidFileException\n",
      "      UnequalIterablesError\n",
      "      InvalidVersion\n",
      "      _InvalidELFFileHeader\n",
      "      InvalidWheelFilename\n",
      "      InvalidSdistFilename\n",
      "      InvalidSpecifier\n",
      "      InvalidMarker\n",
      "      UndefinedComparison\n",
      "      UndefinedEnvironmentName\n",
      "      InvalidRequirement\n",
      "        RequirementParseError\n",
      "      InvalidVersion\n",
      "    AssertionError\n",
      "    ArithmeticError\n",
      "      FloatingPointError\n",
      "      OverflowError\n",
      "      ZeroDivisionError\n",
      "        DivisionByZero\n",
      "        DivisionUndefined\n",
      "      DecimalException\n",
      "        Clamped\n",
      "        Rounded\n",
      "          Underflow\n",
      "          Overflow\n",
      "        Inexact\n",
      "          Underflow\n",
      "          Overflow\n",
      "        Subnormal\n",
      "          Underflow\n",
      "        DivisionByZero\n",
      "        FloatOperation\n",
      "        InvalidOperation\n",
      "          ConversionSyntax\n",
      "          DivisionImpossible\n",
      "          DivisionUndefined\n",
      "          InvalidContext\n",
      "    SystemError\n",
      "      CodecRegistryError\n",
      "    ReferenceError\n",
      "    MemoryError\n",
      "    BufferError\n",
      "    Warning\n",
      "      UserWarning\n",
      "        GetPassWarning\n",
      "        FormatterWarning\n",
      "      EncodingWarning\n",
      "      DeprecationWarning\n",
      "        ProvisionalWarning\n",
      "      PendingDeprecationWarning\n",
      "      SyntaxWarning\n",
      "      RuntimeWarning\n",
      "        ProactorSelectorThreadWarning\n",
      "        UnknownTimezoneWarning\n",
      "        PEP440Warning\n",
      "      FutureWarning\n",
      "        ProvisionalCompleterWarning\n",
      "      ImportWarning\n",
      "      UnicodeWarning\n",
      "      BytesWarning\n",
      "      ResourceWarning\n",
      "      DeprecatedTzFormatWarning\n",
      "      PkgResourcesDeprecationWarning\n",
      "    _OptionError\n",
      "    _Error\n",
      "    error\n",
      "    Verbose\n",
      "    Error\n",
      "    SubprocessError\n",
      "      CalledProcessError\n",
      "      TimeoutExpired\n",
      "    TokenError\n",
      "    StopTokenizing\n",
      "    ClassFoundException\n",
      "    EndOfBlock\n",
      "    TraitError\n",
      "    Error\n",
      "    Error\n",
      "      CancelledError\n",
      "      TimeoutError\n",
      "      InvalidStateError\n",
      "    _GiveupOnSendfile\n",
      "    error\n",
      "    Incomplete\n",
      "    TimeoutError\n",
      "    InvalidStateError\n",
      "    LimitOverrunError\n",
      "    QueueEmpty\n",
      "    QueueFull\n",
      "    Empty\n",
      "    Full\n",
      "    ArgumentError\n",
      "    ZMQBaseError\n",
      "      ZMQError\n",
      "        ContextTerminated\n",
      "        Again\n",
      "        InterruptedSystemCall\n",
      "      ZMQBindError\n",
      "      NotDone\n",
      "    PickleError\n",
      "      PicklingError\n",
      "      UnpicklingError\n",
      "    _Stop\n",
      "    ArgumentError\n",
      "    ArgumentTypeError\n",
      "    ConfigError\n",
      "      ConfigLoaderError\n",
      "        ArgumentError\n",
      "      ConfigFileNotFound\n",
      "    ConfigurableError\n",
      "      MultipleInstanceError\n",
      "    ApplicationError\n",
      "    error\n",
      "    TimeoutError\n",
      "    error\n",
      "    ReturnValueIgnoredError\n",
      "    KeyReuseError\n",
      "    UnknownKeyError\n",
      "    LeakedCallbackError\n",
      "    BadYieldError\n",
      "    ReturnValueIgnoredError\n",
      "    Return\n",
      "    InvalidPortNumber\n",
      "    error\n",
      "    LZMAError\n",
      "    RegistryError\n",
      "    _GiveupOnFastCopy\n",
      "    Error\n",
      "      NoSectionError\n",
      "      DuplicateSectionError\n",
      "      DuplicateOptionError\n",
      "      NoOptionError\n",
      "      InterpolationError\n",
      "        InterpolationMissingOptionError\n",
      "        InterpolationSyntaxError\n",
      "        InterpolationDepthError\n",
      "      ParsingError\n",
      "        MissingSectionHeaderError\n",
      "    NoIPAddresses\n",
      "    BadZipFile\n",
      "    LargeZipFile\n",
      "    BadEntryPoint\n",
      "    NoSuchEntryPoint\n",
      "    DuplicateKernelError\n",
      "    ErrorDuringImport\n",
      "    NotOneValueFound\n",
      "    CannotEval\n",
      "    OptionError\n",
      "    BdbQuit\n",
      "    Restart\n",
      "    ExceptionPexpect\n",
      "      EOF\n",
      "      TIMEOUT\n",
      "    PtyProcessError\n",
      "    FindCmdError\n",
      "    HomeDirError\n",
      "    ProfileDirError\n",
      "    IPythonCoreError\n",
      "      TryNext\n",
      "      UsageError\n",
      "      StdinNotImplementedError\n",
      "    InputRejected\n",
      "    GetoptError\n",
      "    ErrorToken\n",
      "    PrefilterError\n",
      "    AliasError\n",
      "      InvalidAliasError\n",
      "    Error\n",
      "      InterfaceError\n",
      "      DatabaseError\n",
      "        InternalError\n",
      "        OperationalError\n",
      "        ProgrammingError\n",
      "        IntegrityError\n",
      "        DataError\n",
      "        NotSupportedError\n",
      "    Warning\n",
      "    SpaceInInput\n",
      "    DOMException\n",
      "      IndexSizeErr\n",
      "      DomstringSizeErr\n",
      "      HierarchyRequestErr\n",
      "      WrongDocumentErr\n",
      "      InvalidCharacterErr\n",
      "      NoDataAllowedErr\n",
      "      NoModificationAllowedErr\n",
      "      NotFoundErr\n",
      "      NotSupportedErr\n",
      "      InuseAttributeErr\n",
      "      InvalidStateErr\n",
      "      SyntaxErr\n",
      "      InvalidModificationErr\n",
      "      NamespaceErr\n",
      "      InvalidAccessErr\n",
      "      ValidationErr\n",
      "    ValidationError\n",
      "    EditReadOnlyBuffer\n",
      "    _Retry\n",
      "    InvalidLayoutError\n",
      "    HeightIsUnknownError\n",
      "    ParserSyntaxError\n",
      "    InternalParseError\n",
      "    _PositionUpdatingFinished\n",
      "    SimpleGetItemNotFound\n",
      "    UncaughtAttributeError\n",
      "    HasNoContext\n",
      "    ParamIssue\n",
      "    _JediError\n",
      "      InternalError\n",
      "      WrongVersion\n",
      "      RefactoringError\n",
      "    OnErrorLeaf\n",
      "    InvalidPythonEnvironment\n",
      "    MessageError\n",
      "      MessageParseError\n",
      "        HeaderParseError\n",
      "        BoundaryError\n",
      "      MultipartConversionError\n",
      "      CharsetError\n",
      "    Error\n",
      "    HTTPException\n",
      "      NotConnected\n",
      "      InvalidURL\n",
      "      UnknownProtocol\n",
      "      UnknownTransferEncoding\n",
      "      UnimplementedFileMode\n",
      "      IncompleteRead\n",
      "      ImproperConnectionState\n",
      "        CannotSendRequest\n",
      "        CannotSendHeader\n",
      "        ResponseNotReady\n",
      "      BadStatusLine\n",
      "        RemoteDisconnected\n",
      "      LineTooLong\n",
      "    InteractivelyDefined\n",
      "    KillEmbedded\n",
      "    Error\n",
      "      NoSuchProcess\n",
      "        ZombieProcess\n",
      "      AccessDenied\n",
      "      TimeoutExpired\n",
      "    _Ipv6UnsupportedError\n",
      "    QueueEmpty\n",
      "    QueueFull\n",
      "    DebuggerInitializationError\n",
      "    ExpatError\n",
      "    Error\n",
      "      ProtocolError\n",
      "      ResponseError\n",
      "      Fault\n",
      "    ParseBaseException\n",
      "      ParseException\n",
      "      ParseFatalException\n",
      "        ParseSyntaxException\n",
      "    RecursiveGrammarException\n",
      "    ResolutionError\n",
      "      VersionConflict\n",
      "        ContextualVersionConflict\n",
      "      DistributionNotFound\n",
      "      UnknownExtra\n",
      "    _Error\n",
      "    UnableToResolveVariableException\n",
      "    InvalidTypeInArgsException\n",
      "    EndMarkerReached\n",
      "  GeneratorExit\n",
      "  SystemExit\n",
      "  KeyboardInterrupt\n",
      "  CancelledError\n",
      "  AbortThread\n"
     ]
    }
   ],
   "source": [
    "def print_exception_hierarchy(exception_class, indent=0):\n",
    "    print('  ' * indent + exception_class.__name__)\n",
    "    for subclass in exception_class.__subclasses__():\n",
    "        print_exception_hierarchy(subclass, indent + 1)\n",
    "\n",
    "print_exception_hierarchy(BaseException)"
   ]
  },
  {
   "cell_type": "code",
   "execution_count": 14,
   "id": "b7f3fae1-b246-419b-867c-4d8ec1e13fa2",
   "metadata": {},
   "outputs": [],
   "source": [
    "#Q3. What errors are defined in the ArithmeticError class? Explain any two with an example."
   ]
  },
  {
   "cell_type": "code",
   "execution_count": 15,
   "id": "4cca13b7-7b80-4b5c-bd43-1052b4a3068a",
   "metadata": {},
   "outputs": [
    {
     "data": {
      "text/plain": [
       "'The ArithmeticError class in Python serves as a base class for exceptions that occur during arithmetic \\noperations. It has several subclasses, each representing a specific type of arithmetic error. \\nHere are some commonly used errors defined in the ArithmeticError class:\\n\\nZeroDivisionError: Raised when division or modulo operation is performed with zero as the denominator.\\nFloatingPointError: Raised when a floating-point operation fails due to an exceptional condition, \\n                    such as division by zero or an invalid result.\\nOverflowError: Raised when the result of an arithmetic operation is too large to be expressed \\n                within the range of the integer type.\\nUnderflowError: Raised when the result of an arithmetic operation is too small to be expressed \\n                within the range of the float type.\\nTimeoutError: Raised when an operation exceeds a specified timeout.'"
      ]
     },
     "execution_count": 15,
     "metadata": {},
     "output_type": "execute_result"
    }
   ],
   "source": [
    "\"\"\"The ArithmeticError class in Python serves as a base class for exceptions that occur during arithmetic \n",
    "operations. It has several subclasses, each representing a specific type of arithmetic error. \n",
    "Here are some commonly used errors defined in the ArithmeticError class:\n",
    "\n",
    "ZeroDivisionError: Raised when division or modulo operation is performed with zero as the denominator.\n",
    "FloatingPointError: Raised when a floating-point operation fails due to an exceptional condition, \n",
    "                    such as division by zero or an invalid result.\n",
    "OverflowError: Raised when the result of an arithmetic operation is too large to be expressed \n",
    "                within the range of the integer type.\n",
    "UnderflowError: Raised when the result of an arithmetic operation is too small to be expressed \n",
    "                within the range of the float type.\n",
    "TimeoutError: Raised when an operation exceeds a specified timeout.\"\"\""
   ]
  },
  {
   "cell_type": "code",
   "execution_count": 3,
   "id": "7b6613d9-cf82-4164-86d6-7c93174fda7c",
   "metadata": {},
   "outputs": [
    {
     "name": "stdout",
     "output_type": "stream",
     "text": [
      "Error : division by zero\n"
     ]
    }
   ],
   "source": [
    "#ZeroDivisionError:\n",
    "try:\n",
    "    a=10/0\n",
    "except ZeroDivisionError as e:\n",
    "    print('Error :', e)"
   ]
  },
  {
   "cell_type": "code",
   "execution_count": 21,
   "id": "d6e4b457-77e5-4855-91c9-a56b764319a9",
   "metadata": {},
   "outputs": [
    {
     "name": "stdout",
     "output_type": "stream",
     "text": [
      "Error: Integer overflow occurred. Exceeds the limit (4300) for integer string conversion; use sys.set_int_max_str_digits() to increase the limit\n"
     ]
    }
   ],
   "source": [
    "#OverflowError:\n",
    "try:\n",
    "    result = (2 ** 100000)\n",
    "    print(result)\n",
    "except ValueError as e :\n",
    "    print(\"Error: Integer overflow occurred.\", e)\n"
   ]
  },
  {
   "cell_type": "code",
   "execution_count": 22,
   "id": "001b61d4-16a8-48cf-8a9f-aad93ef72aa3",
   "metadata": {},
   "outputs": [],
   "source": [
    "#Q4. Why LookupError class is used? Explain with an example KeyError and IndexError."
   ]
  },
  {
   "cell_type": "code",
   "execution_count": 23,
   "id": "e3de11e3-5394-49e6-af09-c919d718feb3",
   "metadata": {},
   "outputs": [
    {
     "data": {
      "text/plain": [
       "'The LookupError class is a base class for exceptions that occur when a lookup or indexing operation fails. \\nIt serves as a parent class for more specific lookup-related exceptions in Python. \\nTwo common exceptions that inherit from LookupError are KeyError and IndexError.'"
      ]
     },
     "execution_count": 23,
     "metadata": {},
     "output_type": "execute_result"
    }
   ],
   "source": [
    "\"\"\"The LookupError class is a base class for exceptions that occur when a lookup or indexing operation fails. \n",
    "It serves as a parent class for more specific lookup-related exceptions in Python. \n",
    "Two common exceptions that inherit from LookupError are KeyError and IndexError.\"\"\""
   ]
  },
  {
   "cell_type": "code",
   "execution_count": 27,
   "id": "dfead17f-3f87-4173-b08f-7ac650777b8e",
   "metadata": {},
   "outputs": [],
   "source": [
    "#KeyError: This exception is raised when a dictionary or a mapping object is accessed using a key that does not exist in the dictionary. It indicates a failure to find a key in a mapping. \n",
    "\n",
    "my_dict= {'name':'rahul',\n",
    "         'last_name': 'bisht',\n",
    "          'age':33\n",
    "         }"
   ]
  },
  {
   "cell_type": "code",
   "execution_count": 40,
   "id": "6c222b31-2fef-4cb8-a4df-55b9ae0bc3ed",
   "metadata": {},
   "outputs": [
    {
     "name": "stdin",
     "output_type": "stream",
     "text": [
      "enter a key value email\n"
     ]
    },
    {
     "name": "stdout",
     "output_type": "stream",
     "text": [
      "Error: key 'email' is not found in the dictionary\n"
     ]
    }
   ],
   "source": [
    "try:\n",
    "    in_key=input('enter a key value')\n",
    "    value= my_dict[in_key]\n",
    "    print(value)\n",
    "except KeyError as e:\n",
    "    print(f'Error: key {e} is not found in the dictionary')"
   ]
  },
  {
   "cell_type": "code",
   "execution_count": 33,
   "id": "aa7aeb5a-d51b-46fb-ac8e-85b4701cb315",
   "metadata": {},
   "outputs": [],
   "source": [
    "#IndexError: This exception is raised when trying to access an index that is out of range in a sequence like a list, tuple, or string. It indicates a failure to access an element due to an invalid index. \n",
    "\n",
    "my_list=[1,2,3,4,5,6,7,8,9]"
   ]
  },
  {
   "cell_type": "code",
   "execution_count": 44,
   "id": "b5699b6b-ffaa-4a45-ae40-ea6bd047d79a",
   "metadata": {},
   "outputs": [
    {
     "name": "stdin",
     "output_type": "stream",
     "text": [
      "enter a index value 11\n"
     ]
    },
    {
     "name": "stdout",
     "output_type": "stream",
     "text": [
      "Error:  list index out of range\n"
     ]
    }
   ],
   "source": [
    "try:\n",
    "    in_index=int(input('enter a index value'))\n",
    "    value= my_list[in_index]\n",
    "    print(value)\n",
    "except IndexError as e:\n",
    "    print('Error: ',e)"
   ]
  },
  {
   "cell_type": "code",
   "execution_count": 45,
   "id": "a9a24e7e-2fae-4f5a-a60b-d3289f89e220",
   "metadata": {},
   "outputs": [],
   "source": [
    "#Q5. Explain ImportError. What is ModuleNotFoundError?"
   ]
  },
  {
   "cell_type": "code",
   "execution_count": 46,
   "id": "95223bbc-d6eb-4894-a7b9-de94e48b931c",
   "metadata": {},
   "outputs": [
    {
     "data": {
      "text/plain": [
       "'ModuleNotFoundError: This exception is a subclass of ImportError.\\nIt specifically indicates that the module being imported could not be found. \\nIt serves as a more specific version of ImportError for cases where the module itself is not present'"
      ]
     },
     "execution_count": 46,
     "metadata": {},
     "output_type": "execute_result"
    }
   ],
   "source": [
    "\"\"\"ImportError: This exception is raised when an import statement fails to locate and import a module. \n",
    "It can occur due to various reasons such as a misspelled module name, a module not installed in the Python \n",
    "environment, or issues with the module's dependencies.\"\"\"\n",
    "\n",
    "\"\"\"ModuleNotFoundError: This exception is a subclass of ImportError.\n",
    "It specifically indicates that the module being imported could not be found. \n",
    "It serves as a more specific version of ImportError for cases where the module itself is not present.\"\"\""
   ]
  },
  {
   "cell_type": "code",
   "execution_count": 49,
   "id": "32ef19f0-0bb7-4247-9c6c-5ce34f1c9fd9",
   "metadata": {},
   "outputs": [
    {
     "name": "stdout",
     "output_type": "stream",
     "text": [
      "No module named 'Mat'\n"
     ]
    }
   ],
   "source": [
    "#ImportError:\n",
    "try:\n",
    "    import Mat\n",
    "except ImportError as e:\n",
    "    print(e)"
   ]
  },
  {
   "cell_type": "code",
   "execution_count": 48,
   "id": "f52a65be-9931-4592-8129-ef884180bb40",
   "metadata": {},
   "outputs": [
    {
     "name": "stdout",
     "output_type": "stream",
     "text": [
      "No module named 'rahul'\n"
     ]
    }
   ],
   "source": [
    "#ModuleNotFoundError:\n",
    "try:\n",
    "    import rahul\n",
    "except ModuleNotFoundError as e:\n",
    "    print(e)"
   ]
  },
  {
   "cell_type": "code",
   "execution_count": 50,
   "id": "139d442c-7aa5-47ec-9d52-50e0c5d4b7ed",
   "metadata": {},
   "outputs": [],
   "source": [
    "#Q6. List down some best practices for exception handling in python."
   ]
  },
  {
   "cell_type": "code",
   "execution_count": null,
   "id": "bcd9bfed-8c75-4d51-b6ac-0bbe11ce0fe0",
   "metadata": {},
   "outputs": [],
   "source": [
    "#use always a specific exception\n",
    "#print always a proper message\n",
    "#always try to log your error\n",
    "#always avoid to use multiple exception handling\n",
    "#document all the errors -  why it is written \n",
    "#clean up all the resources - like always always close the files by using finally, close dB connection"
   ]
  }
 ],
 "metadata": {
  "kernelspec": {
   "display_name": "Python 3 (ipykernel)",
   "language": "python",
   "name": "python3"
  },
  "language_info": {
   "codemirror_mode": {
    "name": "ipython",
    "version": 3
   },
   "file_extension": ".py",
   "mimetype": "text/x-python",
   "name": "python",
   "nbconvert_exporter": "python",
   "pygments_lexer": "ipython3",
   "version": "3.10.8"
  }
 },
 "nbformat": 4,
 "nbformat_minor": 5
}
