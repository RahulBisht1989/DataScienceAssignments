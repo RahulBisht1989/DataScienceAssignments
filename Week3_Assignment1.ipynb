{
 "cells": [
  {
   "cell_type": "code",
   "execution_count": 1,
   "id": "cdbae11a-5919-4682-8d1a-994bf6afbcbb",
   "metadata": {},
   "outputs": [],
   "source": [
    "#Ans 1 ###########################################"
   ]
  },
  {
   "cell_type": "code",
   "execution_count": 2,
   "id": "12741ba3-30ea-4b01-9b4b-229d55f081e4",
   "metadata": {},
   "outputs": [],
   "source": [
    "#def is used to crate a function"
   ]
  },
  {
   "cell_type": "code",
   "execution_count": 18,
   "id": "38612a8a-b023-4252-8ad2-bf0dad41345c",
   "metadata": {},
   "outputs": [],
   "source": [
    "def odd_num():\n",
    "    List_Odd=[]\n",
    "    for i in range(1,25):\n",
    "        if i%2!=0:\n",
    "            List_Odd.append(i)\n",
    "    print(List_Odd)"
   ]
  },
  {
   "cell_type": "code",
   "execution_count": 19,
   "id": "f5b26ca1-68af-4bb8-9700-4ca543dead82",
   "metadata": {},
   "outputs": [
    {
     "name": "stdout",
     "output_type": "stream",
     "text": [
      "[1, 3, 5, 7, 9, 11, 13, 15, 17, 19, 21, 23]\n"
     ]
    }
   ],
   "source": [
    "odd_num()"
   ]
  },
  {
   "cell_type": "code",
   "execution_count": 20,
   "id": "f4d0b431-4c8e-4012-a9e4-0726db735cb8",
   "metadata": {},
   "outputs": [],
   "source": [
    "#Ans 2 ###########################################"
   ]
  },
  {
   "cell_type": "code",
   "execution_count": 9,
   "id": "1b42a55f-5c49-4490-8dcb-fd54a0290852",
   "metadata": {},
   "outputs": [],
   "source": [
    "#*args - It allows you to pass any number of arguments to a function\n",
    "def add_test(*args):\n",
    "    c=0\n",
    "    for arg in args:\n",
    "        c=c+arg\n",
    "    print(c)"
   ]
  },
  {
   "cell_type": "code",
   "execution_count": 10,
   "id": "5b652a1f-03cb-464b-8a40-0dc01f3920b4",
   "metadata": {},
   "outputs": [
    {
     "name": "stdout",
     "output_type": "stream",
     "text": [
      "28\n"
     ]
    }
   ],
   "source": [
    "add_test(1,2,3,4,5,6,7)"
   ]
  },
  {
   "cell_type": "code",
   "execution_count": 23,
   "id": "98902467-c887-48f1-be12-fe9b90a65755",
   "metadata": {},
   "outputs": [],
   "source": [
    "#**kwargs is used to pass a variable number of keyword arguments (or keyword-value pairs) to a function\n",
    "def dict_Print(**kwargs):\n",
    "    #return kwargs\n",
    "    for key,value in kwargs.items():\n",
    "        print(key,value)"
   ]
  },
  {
   "cell_type": "code",
   "execution_count": 24,
   "id": "d72ccc17-e887-4f12-8721-15c9df7daa74",
   "metadata": {},
   "outputs": [
    {
     "name": "stdout",
     "output_type": "stream",
     "text": [
      "name rahul\n",
      "lastName bisht\n"
     ]
    }
   ],
   "source": [
    "dict_Print(name='rahul',lastName='bisht')"
   ]
  },
  {
   "cell_type": "code",
   "execution_count": 1,
   "id": "fbdc60bf-12ed-4fbb-b80a-bbfaa720bb99",
   "metadata": {},
   "outputs": [],
   "source": [
    "#Ans 3 #############################"
   ]
  },
  {
   "cell_type": "code",
   "execution_count": 2,
   "id": "f3e82323-34dc-4d7b-817e-30a458a3b8e4",
   "metadata": {},
   "outputs": [
    {
     "data": {
      "text/plain": [
       "'What is an iterator in python? Name the method used to initialise the iterator object \\nand the method used for iteration.'"
      ]
     },
     "execution_count": 2,
     "metadata": {},
     "output_type": "execute_result"
    }
   ],
   "source": [
    "\"\"\"What is an iterator in python? Name the method used to initialise the iterator object \n",
    "and the method used for iteration.\"\"\"\n",
    "#iter() can be used to initialise it.\n",
    "#next() can be used for iteration.\n"
   ]
  },
  {
   "cell_type": "code",
   "execution_count": 14,
   "id": "40fbe7c0-9517-4843-b514-6007ff5b89be",
   "metadata": {},
   "outputs": [],
   "source": [
    "mylist=[2, 4, 6, 8, 10, 12, 14,16, 18, 20]"
   ]
  },
  {
   "cell_type": "code",
   "execution_count": 15,
   "id": "7b005751-8fb4-44d9-8e60-95cb7060d3b0",
   "metadata": {},
   "outputs": [],
   "source": [
    "a=iter(mylist)"
   ]
  },
  {
   "cell_type": "code",
   "execution_count": 16,
   "id": "99dcf534-7ead-4966-8139-f9a2938915e5",
   "metadata": {},
   "outputs": [
    {
     "name": "stdout",
     "output_type": "stream",
     "text": [
      "2\n",
      "4\n",
      "6\n",
      "8\n",
      "10\n"
     ]
    }
   ],
   "source": [
    "for i in range(5):\n",
    "    print(next(a))"
   ]
  },
  {
   "cell_type": "code",
   "execution_count": 17,
   "id": "1ac52c77-874c-4089-a843-2cd5862a847b",
   "metadata": {},
   "outputs": [],
   "source": [
    "#ans 4 #################################"
   ]
  },
  {
   "cell_type": "code",
   "execution_count": 18,
   "id": "8c36a690-586f-430c-8062-6832f471e70d",
   "metadata": {},
   "outputs": [],
   "source": [
    "#a generator function is a special type of function that returns an iterator object, which can be iterated over\n",
    "#yield keyword is used in generator functions to define the points at which the function should \"yield\" its values in place of retrun. "
   ]
  },
  {
   "cell_type": "code",
   "execution_count": 28,
   "id": "1b1fa854-2b9a-4bc9-bc55-5b4eb9d90d54",
   "metadata": {},
   "outputs": [],
   "source": [
    "def evennum(n):\n",
    "    for i in range(1,n):\n",
    "        if i%2==0:\n",
    "            yield i"
   ]
  },
  {
   "cell_type": "code",
   "execution_count": 29,
   "id": "305edaab-9e81-4595-afaa-e0d30aa6f953",
   "metadata": {},
   "outputs": [],
   "source": [
    "a_even = evennum(9)"
   ]
  },
  {
   "cell_type": "code",
   "execution_count": 30,
   "id": "7a2bc6a4-ceb9-4c41-824c-d61a69fb8518",
   "metadata": {},
   "outputs": [
    {
     "name": "stdout",
     "output_type": "stream",
     "text": [
      "2\n",
      "4\n",
      "6\n",
      "8\n"
     ]
    }
   ],
   "source": [
    "for j in a_even:\n",
    "    print(j)"
   ]
  },
  {
   "cell_type": "code",
   "execution_count": 31,
   "id": "50948d3d-6fca-467f-a580-cb86620cd711",
   "metadata": {},
   "outputs": [],
   "source": [
    "#ans5 #################################"
   ]
  },
  {
   "cell_type": "code",
   "execution_count": 1,
   "id": "32cfdd29-eb3d-41d0-9baa-92b04b8c98ad",
   "metadata": {},
   "outputs": [],
   "source": [
    "def prime_num():\n",
    "    for i in range(1,(1001)):\n",
    "        c=0\n",
    "        for j in range(1,i+1):\n",
    "            if (i%j==0):\n",
    "                c+=1\n",
    "        if (c==2):\n",
    "           yield(i)"
   ]
  },
  {
   "cell_type": "code",
   "execution_count": 2,
   "id": "7e38757e-cb2c-4b24-90a7-ec64199251c5",
   "metadata": {},
   "outputs": [],
   "source": [
    "a_num=prime_num()"
   ]
  },
  {
   "cell_type": "code",
   "execution_count": 3,
   "id": "e6b26b5f-7ba2-4300-a80d-c1ffa05b5150",
   "metadata": {},
   "outputs": [
    {
     "name": "stdout",
     "output_type": "stream",
     "text": [
      "2\n",
      "3\n",
      "5\n",
      "7\n",
      "11\n",
      "13\n",
      "17\n",
      "19\n",
      "23\n",
      "29\n",
      "31\n",
      "37\n",
      "41\n",
      "43\n",
      "47\n",
      "53\n",
      "59\n",
      "61\n",
      "67\n",
      "71\n"
     ]
    }
   ],
   "source": [
    "for k in range(20):\n",
    "    print(next(a_num))"
   ]
  },
  {
   "cell_type": "code",
   "execution_count": 4,
   "id": "bdce4d5e-08bc-4e6e-bb3a-ef72d47385cc",
   "metadata": {},
   "outputs": [],
   "source": [
    "#Ans 6 ###################################"
   ]
  },
  {
   "cell_type": "code",
   "execution_count": 30,
   "id": "3f458c87-663b-4531-8625-049d914c90a0",
   "metadata": {},
   "outputs": [],
   "source": [
    "def fib_num(n):   \n",
    "    a,b=0,1\n",
    "    while range(n):\n",
    "        yield a\n",
    "        a,b=b,a+b    "
   ]
  },
  {
   "cell_type": "code",
   "execution_count": 31,
   "id": "0632ec90-eac3-497f-82de-f4b0bdf9c04f",
   "metadata": {},
   "outputs": [],
   "source": [
    "p_num= fib_num(10)"
   ]
  },
  {
   "cell_type": "code",
   "execution_count": 32,
   "id": "5b0e6538-e146-4d32-9f78-fc7ec8b3c01f",
   "metadata": {},
   "outputs": [
    {
     "name": "stdout",
     "output_type": "stream",
     "text": [
      "0\n",
      "1\n",
      "1\n",
      "2\n",
      "3\n",
      "5\n",
      "8\n",
      "13\n",
      "21\n",
      "34\n"
     ]
    }
   ],
   "source": [
    "for i in range(10):\n",
    "    print(next(p_num))"
   ]
  },
  {
   "cell_type": "code",
   "execution_count": 33,
   "id": "68117c6c-3053-43ef-8498-9f1c3d49f25f",
   "metadata": {},
   "outputs": [],
   "source": [
    "#Ans 7 #############################"
   ]
  },
  {
   "cell_type": "code",
   "execution_count": 35,
   "id": "0241643a-4c01-41e8-ab0a-bdeaa6e41768",
   "metadata": {},
   "outputs": [],
   "source": [
    "s='pwskills'"
   ]
  },
  {
   "cell_type": "code",
   "execution_count": 37,
   "id": "24901b62-92fe-4aa9-92df-4a54af14d90d",
   "metadata": {},
   "outputs": [],
   "source": [
    "str_s=iter(s)"
   ]
  },
  {
   "cell_type": "code",
   "execution_count": 38,
   "id": "ea183a30-7a03-43c2-a072-7a961429638a",
   "metadata": {},
   "outputs": [
    {
     "data": {
      "text/plain": [
       "['p', 'w', 's', 'k', 'i', 'l', 'l', 's']"
      ]
     },
     "execution_count": 38,
     "metadata": {},
     "output_type": "execute_result"
    }
   ],
   "source": [
    "list(str_s)"
   ]
  },
  {
   "cell_type": "code",
   "execution_count": 39,
   "id": "bc132f19-5c92-403c-a0ab-1e126b7ecc5b",
   "metadata": {},
   "outputs": [],
   "source": [
    "#Ans 8##################################"
   ]
  },
  {
   "cell_type": "code",
   "execution_count": 73,
   "id": "d3177cd8-78d0-477f-bb40-6b58d702ebfb",
   "metadata": {},
   "outputs": [
    {
     "name": "stdin",
     "output_type": "stream",
     "text": [
      "enter a number 897\n"
     ]
    },
    {
     "name": "stdout",
     "output_type": "stream",
     "text": [
      "Input number is not Palindrome\n"
     ]
    }
   ],
   "source": [
    "in_num=input('enter a number')\n",
    "rev_num=in_num[::-1]\n",
    "while in_num==rev_num:\n",
    "    print('Input number is Palindrome')\n",
    "    break\n",
    "else:\n",
    "    print('Input number is not Palindrome')"
   ]
  },
  {
   "cell_type": "code",
   "execution_count": 74,
   "id": "156541f0-d149-4fb6-b734-3a8cd8b241ef",
   "metadata": {},
   "outputs": [],
   "source": [
    "#Ans 9 ###############################"
   ]
  },
  {
   "cell_type": "code",
   "execution_count": 48,
   "id": "597dcaee-dfe2-4693-82e7-57339bba352d",
   "metadata": {},
   "outputs": [],
   "source": [
    "def odd_list(n):\n",
    "    l=[]\n",
    "    for i in range(1,n+1):\n",
    "        l.append(i)\n",
    "    l_odd=list(filter(lambda x:x%2!=0,l))\n",
    "    print(l_odd)"
   ]
  },
  {
   "cell_type": "code",
   "execution_count": 49,
   "id": "b0a453f0-7c47-4cbb-9372-0fc862b07bad",
   "metadata": {},
   "outputs": [
    {
     "name": "stdout",
     "output_type": "stream",
     "text": [
      "[1, 3, 5, 7, 9, 11, 13, 15, 17, 19, 21, 23, 25, 27, 29, 31, 33, 35, 37, 39, 41, 43, 45, 47, 49, 51, 53, 55, 57, 59, 61, 63, 65, 67, 69, 71, 73, 75, 77, 79, 81, 83, 85, 87, 89, 91, 93, 95, 97, 99]\n"
     ]
    }
   ],
   "source": [
    "odd_list(100)"
   ]
  },
  {
   "cell_type": "code",
   "execution_count": null,
   "id": "a317a832-ae77-4570-9450-6f78b795a339",
   "metadata": {},
   "outputs": [],
   "source": []
  }
 ],
 "metadata": {
  "kernelspec": {
   "display_name": "Python 3 (ipykernel)",
   "language": "python",
   "name": "python3"
  },
  "language_info": {
   "codemirror_mode": {
    "name": "ipython",
    "version": 3
   },
   "file_extension": ".py",
   "mimetype": "text/x-python",
   "name": "python",
   "nbconvert_exporter": "python",
   "pygments_lexer": "ipython3",
   "version": "3.10.8"
  }
 },
 "nbformat": 4,
 "nbformat_minor": 5
}
