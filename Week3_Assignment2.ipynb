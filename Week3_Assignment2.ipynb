{
 "cells": [
  {
   "cell_type": "code",
   "execution_count": 1,
   "id": "8408f82d-e402-4ff5-ba6d-fba44389f280",
   "metadata": {},
   "outputs": [],
   "source": [
    "#Ans 1 #############################"
   ]
  },
  {
   "cell_type": "code",
   "execution_count": 5,
   "id": "92ea9a75-1a1e-45f6-a743-1cdbc7407301",
   "metadata": {},
   "outputs": [],
   "source": [
    "l=[('Sachin Tendulkar', 34357), ('Ricky Ponting', 27483), ('Jack Kallis', 25534), ('Virat Kohli', 24936)]"
   ]
  },
  {
   "cell_type": "code",
   "execution_count": 14,
   "id": "9dde90d1-9207-4a5e-ae38-8393d080be43",
   "metadata": {},
   "outputs": [],
   "source": [
    "sort_data=sorted(l,key=lambda x:x[1])"
   ]
  },
  {
   "cell_type": "code",
   "execution_count": 15,
   "id": "21ea2e4f-0847-499b-b66a-f3b8b658ae79",
   "metadata": {},
   "outputs": [
    {
     "name": "stdout",
     "output_type": "stream",
     "text": [
      "[('Virat Kohli', 24936), ('Jack Kallis', 25534), ('Ricky Ponting', 27483), ('Sachin Tendulkar', 34357)]\n"
     ]
    }
   ],
   "source": [
    "print(sort_data)"
   ]
  },
  {
   "cell_type": "code",
   "execution_count": 16,
   "id": "4c1b232f-20b0-4ab8-97d2-2894faca4a55",
   "metadata": {},
   "outputs": [],
   "source": [
    "#Ans 2 #################################"
   ]
  },
  {
   "cell_type": "code",
   "execution_count": 17,
   "id": "a0047f04-6628-451f-ac7f-e7dc1c8fca92",
   "metadata": {},
   "outputs": [],
   "source": [
    "l_int=[1, 2, 3, 4, 5, 6, 7, 8, 9, 10]"
   ]
  },
  {
   "cell_type": "code",
   "execution_count": 18,
   "id": "f111519a-fbc1-4311-896c-53c35a80d5db",
   "metadata": {},
   "outputs": [
    {
     "data": {
      "text/plain": [
       "[1, 4, 9, 16, 25, 36, 49, 64, 81, 100]"
      ]
     },
     "execution_count": 18,
     "metadata": {},
     "output_type": "execute_result"
    }
   ],
   "source": [
    "list(map(lambda x:x**2,l_int))"
   ]
  },
  {
   "cell_type": "code",
   "execution_count": 19,
   "id": "6b085b25-fe9f-4eb0-aaa2-ec4898681c90",
   "metadata": {},
   "outputs": [],
   "source": [
    "#Ans 3 ################################"
   ]
  },
  {
   "cell_type": "code",
   "execution_count": 21,
   "id": "9fcabeb3-6796-4640-8829-aa70465954d8",
   "metadata": {},
   "outputs": [],
   "source": [
    "in_list=[1, 2, 3, 4, 5, 6, 7, 8, 9, 10]"
   ]
  },
  {
   "cell_type": "code",
   "execution_count": 22,
   "id": "0482d302-cf29-48ca-81f3-67f35f86c85f",
   "metadata": {},
   "outputs": [
    {
     "data": {
      "text/plain": [
       "('1', '2', '3', '4', '5', '6', '7', '8', '9', '10')"
      ]
     },
     "execution_count": 22,
     "metadata": {},
     "output_type": "execute_result"
    }
   ],
   "source": [
    "tuple(map(lambda x : str(x),in_list))"
   ]
  },
  {
   "cell_type": "code",
   "execution_count": 23,
   "id": "e748b8af-97f9-4a0c-a5b4-d6b2743fd29b",
   "metadata": {},
   "outputs": [],
   "source": [
    "#Ans 4 ###############################"
   ]
  },
  {
   "cell_type": "code",
   "execution_count": 24,
   "id": "4447874a-8633-4470-a9eb-860d0c810ded",
   "metadata": {},
   "outputs": [],
   "source": [
    "from functools import reduce "
   ]
  },
  {
   "cell_type": "code",
   "execution_count": 25,
   "id": "b89b8d74-cc10-4bb5-bea8-a9765491dadb",
   "metadata": {},
   "outputs": [],
   "source": [
    "l=list(range(1,26))"
   ]
  },
  {
   "cell_type": "code",
   "execution_count": 27,
   "id": "2006d47c-5317-4683-8d97-17c0b143d712",
   "metadata": {},
   "outputs": [
    {
     "data": {
      "text/plain": [
       "325"
      ]
     },
     "execution_count": 27,
     "metadata": {},
     "output_type": "execute_result"
    }
   ],
   "source": [
    "reduce(lambda x,y:x+y,l)"
   ]
  },
  {
   "cell_type": "code",
   "execution_count": 28,
   "id": "e8a12df1-2eca-4b69-a4d5-fc542ba1ea60",
   "metadata": {},
   "outputs": [],
   "source": [
    "#Ans 5 #########################################"
   ]
  },
  {
   "cell_type": "code",
   "execution_count": 34,
   "id": "265695b5-df03-4b33-bffb-43593b4cd9aa",
   "metadata": {},
   "outputs": [],
   "source": [
    "l_fil=[2, 3, 6, 9, 27, 60, 90, 120, 55, 46]"
   ]
  },
  {
   "cell_type": "code",
   "execution_count": 38,
   "id": "fa6d4fe8-46cb-4b83-a95d-f90bcc05754d",
   "metadata": {},
   "outputs": [
    {
     "data": {
      "text/plain": [
       "[6, 60, 90, 120]"
      ]
     },
     "execution_count": 38,
     "metadata": {},
     "output_type": "execute_result"
    }
   ],
   "source": [
    "list(filter(lambda x:x%2==0 and x%3==0,l_fil))"
   ]
  },
  {
   "cell_type": "code",
   "execution_count": 39,
   "id": "3fa9b7ab-f271-4581-bfba-d7dec0eb957d",
   "metadata": {},
   "outputs": [],
   "source": [
    "#Ans 6 #########################################"
   ]
  },
  {
   "cell_type": "code",
   "execution_count": 40,
   "id": "e30d85f3-854e-4ae1-a876-89fbc123f94f",
   "metadata": {},
   "outputs": [],
   "source": [
    "l_str=['python', 'php', 'aba', 'radar', 'level']"
   ]
  },
  {
   "cell_type": "code",
   "execution_count": 41,
   "id": "b5cdd8cf-7f06-49ed-8dde-a8d0e536a1d2",
   "metadata": {},
   "outputs": [
    {
     "data": {
      "text/plain": [
       "['php', 'aba', 'radar', 'level']"
      ]
     },
     "execution_count": 41,
     "metadata": {},
     "output_type": "execute_result"
    }
   ],
   "source": [
    "list(filter(lambda x:x==x[::-1],l_str))"
   ]
  },
  {
   "cell_type": "code",
   "execution_count": null,
   "id": "04d2d868-5def-43c5-a789-e3a21e294e1f",
   "metadata": {},
   "outputs": [],
   "source": []
  }
 ],
 "metadata": {
  "kernelspec": {
   "display_name": "Python 3 (ipykernel)",
   "language": "python",
   "name": "python3"
  },
  "language_info": {
   "codemirror_mode": {
    "name": "ipython",
    "version": 3
   },
   "file_extension": ".py",
   "mimetype": "text/x-python",
   "name": "python",
   "nbconvert_exporter": "python",
   "pygments_lexer": "ipython3",
   "version": "3.10.8"
  }
 },
 "nbformat": 4,
 "nbformat_minor": 5
}
