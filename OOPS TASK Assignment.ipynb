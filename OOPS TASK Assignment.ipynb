{
 "cells": [
  {
   "cell_type": "code",
   "execution_count": 1,
   "id": "4738cd1c-ecb1-4cf2-9a03-6ce954350aa8",
   "metadata": {},
   "outputs": [],
   "source": [
    "\"\"\"Q1, Create a vehicle class with an init method having instance variables as name_of_vehicle, max_speed\n",
    "and average_of_vehicle.\"\"\""
   ]
  },
  {
   "cell_type": "code",
   "execution_count": 2,
   "id": "2e66533e-0146-41ae-b1f6-cbdf921f561f",
   "metadata": {},
   "outputs": [],
   "source": [
    "class vehicle:\n",
    "    def __init__(self,name_of_vehicle,max_speed,average_of_vehicle):\n",
    "        self.name_of_vehicle=name_of_vehicle\n",
    "        self.max_speed=max_speed\n",
    "        self.average_of_vehicle=average_of_vehicle"
   ]
  },
  {
   "cell_type": "code",
   "execution_count": 6,
   "id": "7c0d8ea7-f106-43ff-8371-0b1f9e287ee5",
   "metadata": {},
   "outputs": [],
   "source": [
    "c = vehicle(\"Tesla Model S\", 250, 4.2)"
   ]
  },
  {
   "cell_type": "code",
   "execution_count": 12,
   "id": "5b2b0062-09d4-460a-b225-6f5429d5b953",
   "metadata": {},
   "outputs": [
    {
     "name": "stdout",
     "output_type": "stream",
     "text": [
      "4.2\n",
      "250\n",
      "Tesla Model S\n"
     ]
    }
   ],
   "source": [
    "print(c.average_of_vehicle)\n",
    "print(c.max_speed)\n",
    "print(c.name_of_vehicle)"
   ]
  },
  {
   "cell_type": "code",
   "execution_count": 13,
   "id": "9927f1dc-1931-447b-a161-6b15a1b80e00",
   "metadata": {},
   "outputs": [
    {
     "data": {
      "text/plain": [
       "'Q2. Create a child class car from the vehicle class created in Que 1, which will inherit the vehicle class.\\nCreate a method named seating_capacity which takes capacity as an argument and returns the name of\\nthe vehicle and its seating capacity.'"
      ]
     },
     "execution_count": 13,
     "metadata": {},
     "output_type": "execute_result"
    }
   ],
   "source": [
    "\"\"\"Q2. Create a child class car from the vehicle class created in Que 1, which will inherit the vehicle class.\n",
    "Create a method named seating_capacity which takes capacity as an argument and returns the name of\n",
    "the vehicle and its seating capacity.\"\"\""
   ]
  },
  {
   "cell_type": "code",
   "execution_count": 31,
   "id": "2fbad66b-cfd0-416b-b376-536cc47987c0",
   "metadata": {},
   "outputs": [],
   "source": [
    "class car(vehicle):\n",
    "    def seating_capacity(self,capacity):\n",
    "        self.capacity=capacity\n",
    "        return f\"{self.name_of_vehicle} has seating capacity of {self.capacity}\" "
   ]
  },
  {
   "cell_type": "code",
   "execution_count": 32,
   "id": "db811cd4-da96-410e-aaa5-7f773ead4009",
   "metadata": {},
   "outputs": [],
   "source": [
    "car_details= car(\"Tesla Model S\", 250, 4.2)"
   ]
  },
  {
   "cell_type": "code",
   "execution_count": 33,
   "id": "08921991-696c-4425-b416-d2de37b27866",
   "metadata": {},
   "outputs": [
    {
     "name": "stdout",
     "output_type": "stream",
     "text": [
      "Tesla Model S has seating capacity of 2\n"
     ]
    }
   ],
   "source": [
    "print(car_details.seating_capacity(2))"
   ]
  },
  {
   "cell_type": "code",
   "execution_count": 34,
   "id": "42d79182-8f1d-447a-a044-f37deef82bce",
   "metadata": {},
   "outputs": [],
   "source": [
    "#Q3. What is multiple inheritance? Write a python code to demonstrate multiple inheritance."
   ]
  },
  {
   "cell_type": "code",
   "execution_count": 35,
   "id": "2a977d95-0a34-4625-9654-6200a974e70a",
   "metadata": {},
   "outputs": [],
   "source": [
    "class vehicle1:\n",
    "    def __init__(self,name_of_vehicle1,max_speed1,average_of_vehicle1):\n",
    "        self.name_of_vehicle1=name_of_vehicle1\n",
    "        self.max_speed1=max_speed1\n",
    "        self.average_of_vehicle1=average_of_vehicle1"
   ]
  },
  {
   "cell_type": "code",
   "execution_count": 37,
   "id": "1cd207f1-5694-4821-9713-a82049b7b400",
   "metadata": {},
   "outputs": [],
   "source": [
    "class car1:\n",
    "    def seating_capacity1(self,capacity1):\n",
    "        self.capacity1=capacity1\n",
    "        return f\"{self.name_of_vehicle1} has seating capacity of {self.capacity1}\" "
   ]
  },
  {
   "cell_type": "code",
   "execution_count": 38,
   "id": "1644d430-811f-49d2-ad47-073f4ef09f25",
   "metadata": {},
   "outputs": [],
   "source": [
    "class cardetails1(vehicle1,car1):\n",
    "    pass"
   ]
  },
  {
   "cell_type": "code",
   "execution_count": 40,
   "id": "f94033ff-cb5c-4e6b-9df6-3c4cad3cb109",
   "metadata": {},
   "outputs": [],
   "source": [
    "multiple_inherit= cardetails1(\"Tesla Model X\", 200, 4)"
   ]
  },
  {
   "cell_type": "code",
   "execution_count": 41,
   "id": "3781f566-d0c2-4b86-b1e5-2c9ddc898d18",
   "metadata": {},
   "outputs": [
    {
     "data": {
      "text/plain": [
       "'Tesla Model X has seating capacity of 4'"
      ]
     },
     "execution_count": 41,
     "metadata": {},
     "output_type": "execute_result"
    }
   ],
   "source": [
    "multiple_inherit.seating_capacity1(4)"
   ]
  },
  {
   "cell_type": "code",
   "execution_count": 42,
   "id": "df2fc17f-8a4c-43b9-a25a-a86046a6c4a8",
   "metadata": {},
   "outputs": [],
   "source": [
    "#What are getter and setter in python? Create a class and create a getter and a setter method in this class."
   ]
  },
  {
   "cell_type": "code",
   "execution_count": 2,
   "id": "0804256d-fc77-49db-ae49-57745aa12b65",
   "metadata": {},
   "outputs": [
    {
     "data": {
      "text/plain": [
       "\"getter and setter methods are used to control the access and modification of class attributes. \\nThey provide a way to encapsulate attribute access and enforce certain rules or behavior when getting \\nor setting the attribute's value.\""
      ]
     },
     "execution_count": 2,
     "metadata": {},
     "output_type": "execute_result"
    }
   ],
   "source": [
    "\"\"\"getter and setter methods are used to control the access and modification of class attributes. \n",
    "They provide a way to encapsulate attribute access and enforce certain rules or behavior when getting \n",
    "or setting the attribute's value.\"\"\""
   ]
  },
  {
   "cell_type": "code",
   "execution_count": 54,
   "id": "d1ce0169-08c1-4508-84e4-6ebd2b1c9f0a",
   "metadata": {},
   "outputs": [],
   "source": [
    "class example_getter_setter:\n",
    "    def __init__(self):\n",
    "        self.__balance=0\n",
    "    \n",
    "    @property\n",
    "    def access_balance(self):\n",
    "        return self.__balance\n",
    "    \n",
    "    @access_balance.setter\n",
    "    def update_deposit(self,amount_deposit):\n",
    "        self.__balance=self.__balance+amount_deposit\n",
    "        print(f\"updated balance {self.__balance}\")\n",
    "    @access_balance.setter   \n",
    "    def update_withdrawal(self,amount_withdraw):\n",
    "        if self.__balance<=amount_withdraw:\n",
    "            print(f\"current balance {self.__balance} is less than withdrawal amount\")\n",
    "        else:\n",
    "            self.__balance=self.__balance-amount_withdraw\n",
    "            print(f\"updated balance {self.__balance}\")"
   ]
  },
  {
   "cell_type": "code",
   "execution_count": 55,
   "id": "b3531e12-4e0e-4a18-a751-f435003f8188",
   "metadata": {},
   "outputs": [],
   "source": [
    "a=example_getter_setter()"
   ]
  },
  {
   "cell_type": "code",
   "execution_count": 56,
   "id": "fdf62d04-4cd1-4ad7-9673-151981ce7e94",
   "metadata": {},
   "outputs": [
    {
     "data": {
      "text/plain": [
       "0"
      ]
     },
     "execution_count": 56,
     "metadata": {},
     "output_type": "execute_result"
    }
   ],
   "source": [
    "a.access_balance"
   ]
  },
  {
   "cell_type": "code",
   "execution_count": 57,
   "id": "36fb5e3a-c38b-4ccc-8caa-4b479850f4c4",
   "metadata": {},
   "outputs": [
    {
     "name": "stdout",
     "output_type": "stream",
     "text": [
      "updated balance 400\n"
     ]
    }
   ],
   "source": [
    "a.update_deposit=400"
   ]
  },
  {
   "cell_type": "code",
   "execution_count": 58,
   "id": "955ff587-8123-40e1-9bcf-1da4ff578152",
   "metadata": {},
   "outputs": [
    {
     "name": "stdout",
     "output_type": "stream",
     "text": [
      "current balance 400 is less than withdrawal amount\n"
     ]
    }
   ],
   "source": [
    "a.update_withdrawal=500"
   ]
  },
  {
   "cell_type": "code",
   "execution_count": 59,
   "id": "7e45c3a9-16c3-4509-8502-3d92fd63cb78",
   "metadata": {},
   "outputs": [
    {
     "name": "stdout",
     "output_type": "stream",
     "text": [
      "updated balance 250\n"
     ]
    }
   ],
   "source": [
    "a.update_withdrawal=150"
   ]
  },
  {
   "cell_type": "code",
   "execution_count": 43,
   "id": "c8aec274-a84f-4609-9cfb-f92a010254a1",
   "metadata": {},
   "outputs": [],
   "source": [
    "#Q5.What is method overriding in python? Write a python code to demonstrate method overriding."
   ]
  },
  {
   "cell_type": "code",
   "execution_count": 60,
   "id": "00eb2dc6-7e06-4f28-af2d-97933d25e2ef",
   "metadata": {},
   "outputs": [
    {
     "data": {
      "text/plain": [
       "'it allows a subclass to provide a different implementation of a method that is already defined in its superclass.\\nWhen a method in the subclass has the same name, same parameters, \\nand the same return type as a method in the superclass, it is said to override the superclass method.'"
      ]
     },
     "execution_count": 60,
     "metadata": {},
     "output_type": "execute_result"
    }
   ],
   "source": [
    "\"\"\"it allows a subclass to provide a different implementation of a method that is already defined in its superclass.\n",
    "When a method in the subclass has the same name, same parameters, \n",
    "and the same return type as a method in the superclass, it is said to override the superclass method.\"\"\""
   ]
  },
  {
   "cell_type": "code",
   "execution_count": 62,
   "id": "2239f5fc-992e-48d2-b1e3-c7a1e6c5a32b",
   "metadata": {},
   "outputs": [],
   "source": [
    "class Parent:\n",
    "    def drive(self):\n",
    "        print (\"Parent is driving a car\")\n",
    "        \n",
    "class Child(Parent):\n",
    "    def drive(self):\n",
    "        print (\"child is driving a car\")"
   ]
  },
  {
   "cell_type": "code",
   "execution_count": 69,
   "id": "ba44f196-3388-4d5b-9181-1b2807c28660",
   "metadata": {},
   "outputs": [],
   "source": [
    "c= Child()"
   ]
  },
  {
   "cell_type": "code",
   "execution_count": 70,
   "id": "71606ea5-7724-4974-965a-b00358147a87",
   "metadata": {},
   "outputs": [
    {
     "name": "stdout",
     "output_type": "stream",
     "text": [
      "child is driving a car\n"
     ]
    }
   ],
   "source": [
    "c.drive()"
   ]
  },
  {
   "cell_type": "code",
   "execution_count": 71,
   "id": "db37690b-9e94-4e5b-9246-ca459ec5adb2",
   "metadata": {},
   "outputs": [],
   "source": [
    "p= Parent()"
   ]
  },
  {
   "cell_type": "code",
   "execution_count": 72,
   "id": "15bd55c3-0651-4d77-9fd0-d7b991e9922b",
   "metadata": {},
   "outputs": [
    {
     "name": "stdout",
     "output_type": "stream",
     "text": [
      "Parent is driving a car\n"
     ]
    }
   ],
   "source": [
    "p.drive()"
   ]
  },
  {
   "cell_type": "code",
   "execution_count": null,
   "id": "8debb1bc-099f-4fb0-ab13-7c72062156d7",
   "metadata": {},
   "outputs": [],
   "source": []
  }
 ],
 "metadata": {
  "kernelspec": {
   "display_name": "Python 3 (ipykernel)",
   "language": "python",
   "name": "python3"
  },
  "language_info": {
   "codemirror_mode": {
    "name": "ipython",
    "version": 3
   },
   "file_extension": ".py",
   "mimetype": "text/x-python",
   "name": "python",
   "nbconvert_exporter": "python",
   "pygments_lexer": "ipython3",
   "version": "3.10.8"
  }
 },
 "nbformat": 4,
 "nbformat_minor": 5
}
