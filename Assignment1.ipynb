{
 "cells": [
  {
   "cell_type": "code",
   "execution_count": null,
   "id": "7d152eed-3741-408a-a829-4dd2b70a1f0e",
   "metadata": {},
   "outputs": [],
   "source": [
    "# Answer1"
   ]
  },
  {
   "cell_type": "code",
   "execution_count": 2,
   "id": "53a87e2e-beb5-4674-a078-678dd4b254d0",
   "metadata": {},
   "outputs": [],
   "source": [
    "a=\"Rahul\" #string\n",
    "b=[1,2,3,\"Rahul\",3.14,True] #list\n",
    "x=3.14 #float\n",
    "fruits = (\"apple\", \"banana\", \"orange\", \"mango\") #tuple"
   ]
  },
  {
   "cell_type": "code",
   "execution_count": 3,
   "id": "8c1010f7-d3e3-4a27-980c-8a470b3a14fb",
   "metadata": {},
   "outputs": [],
   "source": [
    "# Answer 2"
   ]
  },
  {
   "cell_type": "code",
   "execution_count": 4,
   "id": "68f42840-cf35-4cdd-8c48-1eb7426aaed3",
   "metadata": {},
   "outputs": [],
   "source": [
    "var1 = ''\n",
    "var2 = '[ DS , ML , Python]'\n",
    "var3 = ['DS' , 'ML' , 'Python']\n",
    "var4 = 1"
   ]
  },
  {
   "cell_type": "code",
   "execution_count": 8,
   "id": "9de83c76-7f9e-47ce-9b38-b1bc4d7bf7f5",
   "metadata": {},
   "outputs": [
    {
     "name": "stdout",
     "output_type": "stream",
     "text": [
      "<class 'str'>\n",
      "<class 'str'>\n",
      "<class 'list'>\n",
      "<class 'int'>\n"
     ]
    }
   ],
   "source": [
    "print(type(var1))\n",
    "print(type(var2))\n",
    "print(type(var3))\n",
    "print(type(var4))"
   ]
  },
  {
   "cell_type": "code",
   "execution_count": 9,
   "id": "5044106c-b960-4ffc-8eb8-f7b77b28286d",
   "metadata": {},
   "outputs": [],
   "source": [
    "# Answer 3"
   ]
  },
  {
   "cell_type": "code",
   "execution_count": 1,
   "id": "f334de84-b5b5-42ee-a994-c4da3b267f58",
   "metadata": {},
   "outputs": [
    {
     "name": "stdout",
     "output_type": "stream",
     "text": [
      "5.0\n",
      "0\n",
      "5\n",
      "100\n"
     ]
    }
   ],
   "source": [
    "x = 10\n",
    "y = 2\n",
    "\n",
    "divide=x/y #divide\n",
    "print(divide)\n",
    "\n",
    "Mod=x%y #mod \n",
    "print(Mod)\n",
    "\n",
    "Floor=x//y #floor division\n",
    "print(Floor)\n",
    "\n",
    "astric=x**y #10 power 2 =100\n",
    "print(astric)"
   ]
  },
  {
   "cell_type": "code",
   "execution_count": 2,
   "id": "16e49bc7-1a6a-496b-8bd3-6bd5d3fb2308",
   "metadata": {},
   "outputs": [],
   "source": [
    "# Answer 4"
   ]
  },
  {
   "cell_type": "code",
   "execution_count": 17,
   "id": "e74f106c-65b6-48a6-8a11-0924b61d9290",
   "metadata": {},
   "outputs": [
    {
     "name": "stdout",
     "output_type": "stream",
     "text": [
      "1 <class 'int'>\n",
      "2 <class 'int'>\n",
      "3.14 <class 'float'>\n",
      "4 <class 'str'>\n",
      "True <class 'bool'>\n",
      "rahul <class 'str'>\n",
      "(7+3j) <class 'complex'>\n",
      "8.5 <class 'float'>\n",
      "9 <class 'int'>\n",
      "10 <class 'int'>\n"
     ]
    }
   ],
   "source": [
    "l=[1,2,3.14,\"4\",True,\"rahul\",7+3j,8.5,9,10]\n",
    "for i in l:\n",
    "    print(i,type(i))"
   ]
  },
  {
   "cell_type": "code",
   "execution_count": 16,
   "id": "69e9612a-af8d-4fac-a6d7-0badb87462ae",
   "metadata": {},
   "outputs": [],
   "source": [
    "# Answer 5"
   ]
  },
  {
   "cell_type": "code",
   "execution_count": 43,
   "id": "679edaf7-d13e-4a90-a016-50382dece3f6",
   "metadata": {},
   "outputs": [
    {
     "name": "stdout",
     "output_type": "stream",
     "text": [
      "a is divisible by b 1 times\n"
     ]
    }
   ],
   "source": [
    "a=10\n",
    "b=2\n",
    "c=0\n",
    "if a%b==0:\n",
    "    while a%b==0:\n",
    "        a=a//b\n",
    "        c+=1\n",
    "    print(\"a is divisible by b \"+str(c)+\" times\")\n",
    "else:\n",
    "    print(\"a is not divisible by b\")\n"
   ]
  },
  {
   "cell_type": "code",
   "execution_count": 44,
   "id": "26c8bbdc-8477-447e-995b-6123ed0e6e88",
   "metadata": {},
   "outputs": [],
   "source": [
    "# Answer 6"
   ]
  },
  {
   "cell_type": "code",
   "execution_count": 49,
   "id": "98a1c4d7-53f7-4fb1-9bd4-b3a45ac50026",
   "metadata": {},
   "outputs": [
    {
     "name": "stdout",
     "output_type": "stream",
     "text": [
      "1 is not divisible by 3\n",
      "2 is not divisible by 3\n",
      "3 is divisible by 3\n",
      "4 is not divisible by 3\n",
      "5 is not divisible by 3\n",
      "6 is divisible by 3\n",
      "7 is not divisible by 3\n",
      "8 is not divisible by 3\n",
      "9 is divisible by 3\n",
      "10 is not divisible by 3\n",
      "11 is not divisible by 3\n",
      "12 is divisible by 3\n",
      "13 is not divisible by 3\n",
      "14 is not divisible by 3\n",
      "15 is divisible by 3\n",
      "16 is not divisible by 3\n",
      "17 is not divisible by 3\n",
      "18 is divisible by 3\n",
      "19 is not divisible by 3\n",
      "20 is not divisible by 3\n",
      "21 is divisible by 3\n",
      "22 is not divisible by 3\n",
      "23 is not divisible by 3\n",
      "24 is divisible by 3\n",
      "25 is not divisible by 3\n"
     ]
    }
   ],
   "source": [
    "il=[1,2,3,4,5,6,7,8,9,10,11,12,13,14,15,16,17,18,19,20,21,22,23,24,25]\n",
    "for i in il:\n",
    "    if i%3==0:\n",
    "        print(str(i) + \" is divisible by 3\")\n",
    "    else:\n",
    "        print(str(i) + \" is not divisible by 3\")"
   ]
  },
  {
   "cell_type": "code",
   "execution_count": 50,
   "id": "34728e11-98e2-4139-86c3-279f0885841b",
   "metadata": {},
   "outputs": [],
   "source": [
    "# Answer 7"
   ]
  },
  {
   "cell_type": "code",
   "execution_count": 55,
   "id": "1d53ceaf-b7db-4499-a948-1aaaa664e08a",
   "metadata": {},
   "outputs": [
    {
     "name": "stdout",
     "output_type": "stream",
     "text": [
      "[10, 2, 3, 4]\n"
     ]
    }
   ],
   "source": [
    "# mutable - it allows to update a value at specific index.\n",
    "L=[1,2,3,4]\n",
    "L[0]=10\n",
    "print(L)"
   ]
  },
  {
   "cell_type": "code",
   "execution_count": 56,
   "id": "5692d9de-955b-4a8a-9fbb-b166ae3339dc",
   "metadata": {},
   "outputs": [
    {
     "ename": "TypeError",
     "evalue": "'int' object does not support item assignment",
     "output_type": "error",
     "traceback": [
      "\u001b[0;31m---------------------------------------------------------------------------\u001b[0m",
      "\u001b[0;31mTypeError\u001b[0m                                 Traceback (most recent call last)",
      "Cell \u001b[0;32mIn[56], line 3\u001b[0m\n\u001b[1;32m      1\u001b[0m \u001b[38;5;66;03m# immutable - it do not allows to update a value at specific index.\u001b[39;00m\n\u001b[1;32m      2\u001b[0m d\u001b[38;5;241m=\u001b[39m \u001b[38;5;241m1234\u001b[39m\n\u001b[0;32m----> 3\u001b[0m \u001b[43md\u001b[49m\u001b[43m[\u001b[49m\u001b[38;5;241;43m0\u001b[39;49m\u001b[43m]\u001b[49m\u001b[38;5;241m=\u001b[39m\u001b[38;5;241m2\u001b[39m\n\u001b[1;32m      4\u001b[0m \u001b[38;5;28mprint\u001b[39m(d)\n",
      "\u001b[0;31mTypeError\u001b[0m: 'int' object does not support item assignment"
     ]
    }
   ],
   "source": [
    "# immutable - it do not allows to update a value at specific index.\n",
    "d= 1234\n",
    "d[0]=2\n",
    "print(d)"
   ]
  },
  {
   "cell_type": "code",
   "execution_count": null,
   "id": "d8364020-3a98-4ba1-8487-3c9578c85618",
   "metadata": {},
   "outputs": [],
   "source": []
  }
 ],
 "metadata": {
  "kernelspec": {
   "display_name": "Python 3 (ipykernel)",
   "language": "python",
   "name": "python3"
  },
  "language_info": {
   "codemirror_mode": {
    "name": "ipython",
    "version": 3
   },
   "file_extension": ".py",
   "mimetype": "text/x-python",
   "name": "python",
   "nbconvert_exporter": "python",
   "pygments_lexer": "ipython3",
   "version": "3.10.8"
  }
 },
 "nbformat": 4,
 "nbformat_minor": 5
}
