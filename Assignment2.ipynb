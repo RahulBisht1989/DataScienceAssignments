{
 "cells": [
  {
   "cell_type": "code",
   "execution_count": 1,
   "id": "2952c3ed-bbd2-46c5-adab-66dd9fdab058",
   "metadata": {},
   "outputs": [],
   "source": [
    "#ans 1 ##########################################"
   ]
  },
  {
   "cell_type": "code",
   "execution_count": 3,
   "id": "ebff7df4-7836-4ad2-b3cf-badbf4351cf1",
   "metadata": {},
   "outputs": [
    {
     "name": "stdout",
     "output_type": "stream",
     "text": [
      "Hello, world!\n"
     ]
    },
    {
     "data": {
      "text/plain": [
       "'\\nThis is a multi-line comment.\\nIt spans across multiple lines.\\n'"
      ]
     },
     "execution_count": 3,
     "metadata": {},
     "output_type": "execute_result"
    }
   ],
   "source": [
    "# This is a single-line comment\n",
    "print(\"Hello, world!\")  # This is another comment\n",
    "\n",
    "\"\"\"\n",
    "This is a multi-line comment.\n",
    "It spans across multiple lines.\n",
    "\"\"\""
   ]
  },
  {
   "cell_type": "code",
   "execution_count": null,
   "id": "e731b7fb-68bd-4707-9659-ca4803588c7b",
   "metadata": {},
   "outputs": [],
   "source": [
    "#ans 2 #######################################"
   ]
  },
  {
   "cell_type": "code",
   "execution_count": 4,
   "id": "1e9be865-7228-42ff-a2a3-b95770df0b01",
   "metadata": {},
   "outputs": [],
   "source": [
    "#variables are used to store and reference any type of data\n",
    "# Variable declaration and assignment\n",
    "my_IntVariable = 10\n",
    "my_StrVariable = 'abc'\n",
    "my_FloatVariable = 3.456"
   ]
  },
  {
   "cell_type": "code",
   "execution_count": 5,
   "id": "59dd806f-148b-4c63-b1e7-20595df808dd",
   "metadata": {},
   "outputs": [],
   "source": [
    "#Ans 3 ###########################################"
   ]
  },
  {
   "cell_type": "code",
   "execution_count": 6,
   "id": "6455f4fd-9d4f-4bac-841d-f0a8f84d3b8d",
   "metadata": {},
   "outputs": [
    {
     "name": "stdout",
     "output_type": "stream",
     "text": [
      "10\n"
     ]
    }
   ],
   "source": [
    "#we can convert one data type to another using various built-in typecasting functions or methods.\n",
    "num_str = \"10\"\n",
    "num_int = int(num_str)\n",
    "print(num_int)  # Output: 10\n"
   ]
  },
  {
   "cell_type": "code",
   "execution_count": 7,
   "id": "007482c6-3f69-4394-923f-ad809effaf51",
   "metadata": {},
   "outputs": [],
   "source": [
    "#Ans 4 #######################################"
   ]
  },
  {
   "cell_type": "code",
   "execution_count": 9,
   "id": "267a3bef-82a4-4018-9047-a2d823154c09",
   "metadata": {},
   "outputs": [
    {
     "data": {
      "text/plain": [
       "'open a command line, go to that directory where your souce file is plaxed and type the word python \\nfollowed by the path to your script file like this: python first_script.py \\nThen you hit the ENTER button from the keyboard'"
      ]
     },
     "execution_count": 9,
     "metadata": {},
     "output_type": "execute_result"
    }
   ],
   "source": [
    "\"\"\"open a command line, go to that directory where your souce file is plaxed and type the word python \n",
    "followed by the path to your script file like this: python first_script.py \n",
    "Then you hit the ENTER button from the keyboard\"\"\""
   ]
  },
  {
   "cell_type": "code",
   "execution_count": 10,
   "id": "526657de-6794-408e-b6f0-59ea1f9b88e9",
   "metadata": {},
   "outputs": [],
   "source": [
    "#ans 5 ############################################"
   ]
  },
  {
   "cell_type": "code",
   "execution_count": 11,
   "id": "44ee4318-fc5b-4cc3-8c76-a0c4396921d7",
   "metadata": {},
   "outputs": [],
   "source": [
    "my_list = [1, 2, 3, 4, 5]"
   ]
  },
  {
   "cell_type": "code",
   "execution_count": 12,
   "id": "67d73f4b-45dc-428c-b213-3c9eed096fe3",
   "metadata": {},
   "outputs": [
    {
     "data": {
      "text/plain": [
       "[2, 3]"
      ]
     },
     "execution_count": 12,
     "metadata": {},
     "output_type": "execute_result"
    }
   ],
   "source": [
    "my_list[1:3]"
   ]
  },
  {
   "cell_type": "code",
   "execution_count": 13,
   "id": "12257f45-522e-4216-9b92-dc86a5700d88",
   "metadata": {},
   "outputs": [],
   "source": [
    "#ans 6 #########################################"
   ]
  },
  {
   "cell_type": "code",
   "execution_count": 14,
   "id": "57ac84ad-139d-4a99-a7da-b63e671341db",
   "metadata": {},
   "outputs": [],
   "source": [
    "#a complex number is a number that comprises both a real part and an imaginary part.\n",
    "\n",
    "# Complex number representation in Python\n",
    "z = 3 + 4j\n",
    "\n",
    "#where 3 is real part and 4j is imaginary."
   ]
  },
  {
   "cell_type": "code",
   "execution_count": 15,
   "id": "d66d3226-90d7-4e70-a9c1-22a9f123dbd1",
   "metadata": {},
   "outputs": [],
   "source": [
    "#ans 7 ########################################"
   ]
  },
  {
   "cell_type": "code",
   "execution_count": 16,
   "id": "8fda434b-390a-4d9c-875a-00099bca8f19",
   "metadata": {},
   "outputs": [],
   "source": [
    "age = 25"
   ]
  },
  {
   "cell_type": "code",
   "execution_count": 17,
   "id": "98b61f59-21d9-4f23-bbc8-3fd088ac06de",
   "metadata": {},
   "outputs": [],
   "source": [
    "#ans 8 #######################################"
   ]
  },
  {
   "cell_type": "code",
   "execution_count": 18,
   "id": "4c321f7f-70fe-4f54-85de-258bcf69a789",
   "metadata": {},
   "outputs": [
    {
     "data": {
      "text/plain": [
       "float"
      ]
     },
     "execution_count": 18,
     "metadata": {},
     "output_type": "execute_result"
    }
   ],
   "source": [
    "price = 9.99\n",
    "type(price) #float"
   ]
  },
  {
   "cell_type": "code",
   "execution_count": 19,
   "id": "34508f2a-3d00-46c5-8243-24a756389ab4",
   "metadata": {},
   "outputs": [],
   "source": [
    "#ans 9 ###########################################"
   ]
  },
  {
   "cell_type": "code",
   "execution_count": 20,
   "id": "ae7f2573-0e0d-414f-b4f3-fd0be5096c71",
   "metadata": {},
   "outputs": [
    {
     "name": "stdout",
     "output_type": "stream",
     "text": [
      "Rahul Bisht\n"
     ]
    }
   ],
   "source": [
    "name = 'Rahul Bisht'\n",
    "print(name)   #output: Rahul Bisht"
   ]
  },
  {
   "cell_type": "code",
   "execution_count": 21,
   "id": "2b4e9d95-11ed-4b3b-9960-2a32676aeb6b",
   "metadata": {},
   "outputs": [],
   "source": [
    "#ans 10 #############################################"
   ]
  },
  {
   "cell_type": "code",
   "execution_count": 22,
   "id": "dbaec262-a2a1-41cc-9ffe-b93987575af0",
   "metadata": {},
   "outputs": [],
   "source": [
    "a= \"Hello, World!\""
   ]
  },
  {
   "cell_type": "code",
   "execution_count": 23,
   "id": "54afff73-3a3d-4708-bbe7-6c30992b8541",
   "metadata": {},
   "outputs": [
    {
     "data": {
      "text/plain": [
       "'World'"
      ]
     },
     "execution_count": 23,
     "metadata": {},
     "output_type": "execute_result"
    }
   ],
   "source": [
    "a[7:12]  #output:'World'"
   ]
  },
  {
   "cell_type": "code",
   "execution_count": 24,
   "id": "de5b964d-acc2-4218-8e3c-ecd96035ae76",
   "metadata": {},
   "outputs": [],
   "source": [
    "#ans 11 #############################################"
   ]
  },
  {
   "cell_type": "code",
   "execution_count": 26,
   "id": "e09c258e-2619-4a92-8d73-34399eb683f1",
   "metadata": {},
   "outputs": [],
   "source": [
    "is_student = False"
   ]
  },
  {
   "cell_type": "code",
   "execution_count": null,
   "id": "8e447a3d-8b13-4240-b52e-e1f6992c9883",
   "metadata": {},
   "outputs": [],
   "source": []
  }
 ],
 "metadata": {
  "kernelspec": {
   "display_name": "Python 3 (ipykernel)",
   "language": "python",
   "name": "python3"
  },
  "language_info": {
   "codemirror_mode": {
    "name": "ipython",
    "version": 3
   },
   "file_extension": ".py",
   "mimetype": "text/x-python",
   "name": "python",
   "nbconvert_exporter": "python",
   "pygments_lexer": "ipython3",
   "version": "3.10.8"
  }
 },
 "nbformat": 4,
 "nbformat_minor": 5
}
