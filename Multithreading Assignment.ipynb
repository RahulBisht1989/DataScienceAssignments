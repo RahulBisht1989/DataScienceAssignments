{
 "cells": [
  {
   "cell_type": "code",
   "execution_count": 1,
   "id": "0c97b729-59fe-47a1-829e-7cf8b5d46db7",
   "metadata": {},
   "outputs": [],
   "source": [
    "#Ql. What is multithreading in python? Why is it used? Name the module used to handle threads in python."
   ]
  },
  {
   "cell_type": "code",
   "execution_count": 4,
   "id": "97ac7d58-6c0b-4a88-8ad4-f13e5955acfc",
   "metadata": {},
   "outputs": [
    {
     "data": {
      "text/plain": [
       "'Python provides a built-in module called threading for handling threads.'"
      ]
     },
     "execution_count": 4,
     "metadata": {},
     "output_type": "execute_result"
    }
   ],
   "source": [
    "\"\"\"Multithreading in Python refers to the ability of a program to simultaneously execute multiple \n",
    "threads of execution within a single process.\"\"\"\n",
    "\"\"\"Python provides a built-in module called threading for handling threads.\"\"\""
   ]
  },
  {
   "cell_type": "code",
   "execution_count": 3,
   "id": "45e6dc39-8964-4bbd-bf64-f4f891882ed5",
   "metadata": {},
   "outputs": [],
   "source": [
    "#Q2. Why threading module used? Write the use of the following functions:\n",
    "\n",
    "#1. activeCount()\n",
    "#2. currentThread()\n",
    "#3. enumerate()"
   ]
  },
  {
   "cell_type": "code",
   "execution_count": 5,
   "id": "359c54aa-0c48-4fee-9143-f327fcab4deb",
   "metadata": {},
   "outputs": [
    {
     "data": {
      "text/plain": [
       "'3.enumerate(): The enumerate() function returns a list of all Thread objects currently alive and running \\nin the program. Each Thread object represents an individual thread of execution. '"
      ]
     },
     "execution_count": 5,
     "metadata": {},
     "output_type": "execute_result"
    }
   ],
   "source": [
    "\"\"\"The threading module in Python is used to handle threads and provides a high-level interface for creating, \n",
    "managing, and synchronizing threads.\"\"\"\n",
    "\n",
    "\"\"\"1. activeCount(): The activeCount() function returns the number of Thread objects currently alive and \n",
    "running in the program. It is used to determine the current number of active threads in the system. \"\"\"\n",
    "\"\"\"2. currentThread(): The currentThread() function returns the current Thread object corresponding to the caller's\n",
    "thread of execution. It allows you to obtain a reference to the thread from which the function is called.\"\"\"\n",
    "\"\"\"3.enumerate(): The enumerate() function returns a list of all Thread objects currently alive and running \n",
    "in the program. Each Thread object represents an individual thread of execution. This function is primarily\n",
    "used to obtain a snapshot of all active threads at a specific moment. It can be helpful for tasks such as \n",
    "debugging, monitoring, or performing operations on multiple threads simultaneously, such as joining or terminating\n",
    "them.\"\"\""
   ]
  },
  {
   "cell_type": "code",
   "execution_count": 10,
   "id": "7f3f848b-ac04-4c99-beb5-330414d74c2b",
   "metadata": {},
   "outputs": [
    {
     "name": "stdout",
     "output_type": "stream",
     "text": [
      "Thread:  Thread-25 (worker)  is executing\n",
      "Thread:  Thread-26 (worker)  is executing\n",
      "Thread:  Thread-27 (worker)  is executing\n",
      "Thread:  Thread-28 (worker)  is executing\n",
      "Thread:  Thread-29 (worker)  is executing\n",
      "Active thread:  8\n",
      "Thread enumerate: \n",
      "Thread Name:  MainThread\n",
      "Thread Name:  IOPub\n",
      "Thread Name:  Heartbeat\n",
      "Thread Name:  Thread-3 (_watch_pipe_fd)\n",
      "Thread Name:  Thread-4 (_watch_pipe_fd)\n",
      "Thread Name:  Control\n",
      "Thread Name:  IPythonHistorySavingThread\n",
      "Thread Name:  Thread-2\n"
     ]
    }
   ],
   "source": [
    "import threading\n",
    "\n",
    "def worker():\n",
    "    print('Thread: ',threading.current_thread().name,' is executing')\n",
    "\n",
    "threads=[]\n",
    "for i in range(5):\n",
    "    thread=threading.Thread(target=worker)\n",
    "    thread.start()\n",
    "    threads.append(thread)\n",
    "    \n",
    "print('Active thread: ',threading.active_count())\n",
    "\n",
    "print('Thread enumerate: ')\n",
    "for thread in threading.enumerate():\n",
    "    print('Thread Name: ', thread.name)\n",
    "    \n",
    "for thread in threads:\n",
    "    thread.join()\n",
    "    "
   ]
  },
  {
   "cell_type": "code",
   "execution_count": 11,
   "id": "5cf1b27e-9f95-4a37-81b0-19b25f191a81",
   "metadata": {},
   "outputs": [],
   "source": [
    "#Q3. Explain the following functions:\n",
    "\n",
    "#1. run()\n",
    "#2. start()\n",
    "#3. join()\n",
    "#4. isAlive()"
   ]
  },
  {
   "cell_type": "code",
   "execution_count": 12,
   "id": "2439cc67-e296-4b82-b289-c400d7402bb1",
   "metadata": {},
   "outputs": [
    {
     "data": {
      "text/plain": [
       "\"run(): The run() method is the entry point for the thread's activity. \\nIt is the method that gets executed when you start a thread. By default, the run() method does nothing in \\nthe Thread class. However, you can subclass the Thread class and override this method to define the \\nspecific task or functionality you want the thread to perform. When you call the start() method on a \\nthread object, it internally calls the run() method to start the thread's execution.\\n\\nstart(): The start() method is used to start the execution of a thread. It initializes the thread and calls \\nthe run() method. When you call start(), the thread is added to the system's schedule for execution. \\nThe start() method does not block the program's flow; it returns immediately after starting the thread. \\nIt is important to note that you should not call the run() method directly; always use start() to properly \\nlaunch the thread.\\n\\njoin(): The join() method is used to wait for a thread to complete its execution. When you call join() on a \\nthread object, the program waits at that point until the thread finishes its execution. This is useful when \\nyou want to synchronize the main thread with the completion of a secondary thread. If you don't call join(), \\nthe program will continue executing regardless of whether the thread has finished or not. You can optionally \\nspecify a timeout value as an argument to join(), which specifies the maximum time to wait for the thread to \\ncomplete.\\n\\nisAlive(): The isAlive() method is used to check whether a thread is currently active or alive. It returns \\nTrue if the thread is still executing, and False otherwise. This method is helpful to determine the status \\nof a thread, especially when you want to perform certain actions based on whether a thread is still running \\nor has finished its execution.\""
      ]
     },
     "execution_count": 12,
     "metadata": {},
     "output_type": "execute_result"
    }
   ],
   "source": [
    "\"\"\"run(): The run() method is the entry point for the thread's activity. \n",
    "It is the method that gets executed when you start a thread. By default, the run() method does nothing in \n",
    "the Thread class. However, you can subclass the Thread class and override this method to define the \n",
    "specific task or functionality you want the thread to perform. When you call the start() method on a \n",
    "thread object, it internally calls the run() method to start the thread's execution.\n",
    "\n",
    "start(): The start() method is used to start the execution of a thread. It initializes the thread and calls \n",
    "the run() method. When you call start(), the thread is added to the system's schedule for execution. \n",
    "The start() method does not block the program's flow; it returns immediately after starting the thread. \n",
    "It is important to note that you should not call the run() method directly; always use start() to properly \n",
    "launch the thread.\n",
    "\n",
    "join(): The join() method is used to wait for a thread to complete its execution. When you call join() on a \n",
    "thread object, the program waits at that point until the thread finishes its execution. This is useful when \n",
    "you want to synchronize the main thread with the completion of a secondary thread. If you don't call join(), \n",
    "the program will continue executing regardless of whether the thread has finished or not. You can optionally \n",
    "specify a timeout value as an argument to join(), which specifies the maximum time to wait for the thread to \n",
    "complete.\n",
    "\n",
    "isAlive(): The isAlive() method is used to check whether a thread is currently active or alive. It returns \n",
    "True if the thread is still executing, and False otherwise. This method is helpful to determine the status \n",
    "of a thread, especially when you want to perform certain actions based on whether a thread is still running \n",
    "or has finished its execution.\"\"\""
   ]
  },
  {
   "cell_type": "code",
   "execution_count": 14,
   "id": "f506d5e1-7cbe-4f7a-a2cf-65d2b8f469ca",
   "metadata": {},
   "outputs": [
    {
     "name": "stdout",
     "output_type": "stream",
     "text": [
      "thread started\n",
      "is thread alive  True\n",
      "thread stopped\n",
      "is thread alive  False\n"
     ]
    }
   ],
   "source": [
    "import threading\n",
    "import time\n",
    "\n",
    "def worker2():\n",
    "    print('thread started')\n",
    "    time.sleep(2)\n",
    "    print('thread stopped')\n",
    "\n",
    "thread= threading.Thread(target=worker2)\n",
    "\n",
    "thread.start()\n",
    "print('is thread alive ', thread.is_alive())\n",
    "\n",
    "thread.join()\n",
    "print('is thread alive ', thread.is_alive())\n"
   ]
  },
  {
   "cell_type": "code",
   "execution_count": 15,
   "id": "b9301985-fa00-41d8-9aa9-9d55543616ce",
   "metadata": {},
   "outputs": [],
   "source": [
    "#Q4. Write a python program to create two threads. Thread one must print the list of squares and thread\n",
    "#two must print the list of cubes."
   ]
  },
  {
   "cell_type": "code",
   "execution_count": 18,
   "id": "945f5840-59b2-44ab-a86b-8f0dce658eb8",
   "metadata": {},
   "outputs": [
    {
     "name": "stdout",
     "output_type": "stream",
     "text": [
      "[4, 9, 16, 25, 36, 49]\n",
      "[8, 27, 64, 125, 216, 343]\n"
     ]
    }
   ],
   "source": [
    "import threading\n",
    "\n",
    "l=[2,3,4,5,6,7]\n",
    "\n",
    "def square(l):\n",
    "    l_sq=[]\n",
    "    for i in l:\n",
    "        a=i**2\n",
    "        l_sq.append(a)\n",
    "    print(list(l_sq))\n",
    "    \n",
    "def cube(l):\n",
    "    l_cube=[]\n",
    "    for i in l:\n",
    "        a=i**3\n",
    "        l_cube.append(a)\n",
    "    print(list(l_cube))\n",
    "\n",
    "thread1= threading.Thread(target=square,args=(l,))\n",
    "thread2= threading.Thread(target=cube, args=(l,))\n",
    "\n",
    "thread1.start()\n",
    "thread2.start()\n",
    "\n",
    "thread1.join()\n",
    "thread2.join()"
   ]
  },
  {
   "cell_type": "code",
   "execution_count": 19,
   "id": "d9e3debc-fa3a-4e05-b3ad-056276353d1b",
   "metadata": {},
   "outputs": [],
   "source": [
    "#Q5. State advantages and disadvantages of multithreading."
   ]
  },
  {
   "cell_type": "code",
   "execution_count": 20,
   "id": "d0a98f04-ac58-4583-a250-cba1722d098c",
   "metadata": {},
   "outputs": [
    {
     "data": {
      "text/plain": [
       "'\\nMultithreading offers several advantages and disadvantages, which are important to consider when deciding to use it in a program. Here are some advantages and disadvantages of multithreading:\\n\\nAdvantages of Multithreading:\\n\\nConcurrency and Responsiveness: Multithreading allows for concurrent execution of multiple tasks or operations. This concurrency enhances the responsiveness of an application by preventing one thread from blocking others. For example, in a GUI application, multithreading keeps the user interface responsive while performing background tasks.\\n\\nEfficient Resource Utilization: Multithreading allows for efficient utilization of system resources, such as CPU cores. By dividing the workload among multiple threads, a program can take advantage of parallelism and make use of available processing power effectively.\\n\\nImproved Performance: In certain scenarios, multithreading can lead to improved performance by leveraging parallelism. Tasks that involve waiting for I/O operations, such as network requests or file operations, can be executed concurrently, reducing overall execution time.\\n\\nSimplified Program Structure: Multithreading can simplify the structure of certain programs by allowing them to be organized into separate threads, each responsible for a specific task or functionality. This can improve code modularity and maintainability.\\n\\n\\n\\n\\nDisadvantages of Multithreading:\\n\\nComplexity and Synchronization: Multithreading introduces complexities due to shared resources and the need for proper synchronization. Accessing and modifying shared data concurrently can lead to issues like race conditions, deadlocks, and data inconsistency. Synchronization mechanisms, such as locks or semaphores, need to be used correctly to ensure thread safety, which can be challenging to implement and debug.\\n\\nIncreased Memory Overhead: Each thread requires its own stack space, which adds to the memory overhead of the program. When using multiple threads, memory consumption can increase significantly, especially if each thread requires a substantial stack size.\\n\\nPotential for Performance Issues: Multithreading can introduce performance issues in certain situations. For example, if the program has a high degree of contention for shared resources or if the threads spend most of their time waiting or synchronizing, the benefits of multithreading may be diminished. Additionally, the Global Interpreter Lock (GIL) in Python restricts true parallel execution of threads and can limit performance gains in CPU-bound tasks.\\n\\nDebugging and Testing Complexity: Debugging multithreaded programs can be more complex compared to single-threaded programs. Issues such as race conditions or deadlocks can be difficult to reproduce and debug. Proper testing and thorough consideration of thread interactions are necessary to ensure the correctness of the program.'"
      ]
     },
     "execution_count": 20,
     "metadata": {},
     "output_type": "execute_result"
    }
   ],
   "source": [
    "\"\"\"\n",
    "Advantages of Multithreading:\n",
    "\n",
    "Concurrency and Responsiveness: Multithreading allows for concurrent execution of multiple tasks or operations. This concurrency enhances the responsiveness of an application by preventing one thread from blocking others. For example, in a GUI application, multithreading keeps the user interface responsive while performing background tasks.\n",
    "\n",
    "Efficient Resource Utilization: Multithreading allows for efficient utilization of system resources, such as CPU cores. By dividing the workload among multiple threads, a program can take advantage of parallelism and make use of available processing power effectively.\n",
    "\n",
    "Improved Performance: In certain scenarios, multithreading can lead to improved performance by leveraging parallelism. Tasks that involve waiting for I/O operations, such as network requests or file operations, can be executed concurrently, reducing overall execution time.\n",
    "\n",
    "Simplified Program Structure: Multithreading can simplify the structure of certain programs by allowing them to be organized into separate threads, each responsible for a specific task or functionality. This can improve code modularity and maintainability.\n",
    "\n",
    "\n",
    "\n",
    "\n",
    "Disadvantages of Multithreading:\n",
    "\n",
    "Complexity and Synchronization: Multithreading introduces complexities due to shared resources and the need for proper synchronization. Accessing and modifying shared data concurrently can lead to issues like race conditions, deadlocks, and data inconsistency. Synchronization mechanisms, such as locks or semaphores, need to be used correctly to ensure thread safety, which can be challenging to implement and debug.\n",
    "\n",
    "Increased Memory Overhead: Each thread requires its own stack space, which adds to the memory overhead of the program. When using multiple threads, memory consumption can increase significantly, especially if each thread requires a substantial stack size.\n",
    "\n",
    "Potential for Performance Issues: Multithreading can introduce performance issues in certain situations. For example, if the program has a high degree of contention for shared resources or if the threads spend most of their time waiting or synchronizing, the benefits of multithreading may be diminished. Additionally, the Global Interpreter Lock (GIL) in Python restricts true parallel execution of threads and can limit performance gains in CPU-bound tasks.\n",
    "\n",
    "Debugging and Testing Complexity: Debugging multithreaded programs can be more complex compared to single-threaded programs. Issues such as race conditions or deadlocks can be difficult to reproduce and debug. Proper testing and thorough consideration of thread interactions are necessary to ensure the correctness of the program.\"\"\""
   ]
  },
  {
   "cell_type": "code",
   "execution_count": 21,
   "id": "5f25d4bd-5895-44b7-bafc-c1ee0ce566dd",
   "metadata": {},
   "outputs": [],
   "source": [
    "#Q6. Explain deadlocks and race conditions."
   ]
  },
  {
   "cell_type": "code",
   "execution_count": null,
   "id": "529ee5d1-121a-4124-b095-11b90d332eb7",
   "metadata": {},
   "outputs": [],
   "source": [
    "\"\"\"Deadlocks:\n",
    "A deadlock refers to a situation where two or more threads or processes are unable to proceed because each \n",
    "is waiting for the other to release a resource. In other words, a deadlock occurs when two or more threads \n",
    "are blocked indefinitely, resulting in a program or system becoming unresponsive. Deadlocks typically arise \n",
    "due to a circular dependency of resources.\n",
    "\n",
    "To illustrate this, consider the following scenario:\n",
    "\n",
    "Thread A acquires Resource X.\n",
    "Thread B acquires Resource Y.\n",
    "Thread A tries to acquire Resource Y, but it is already held by Thread B.\n",
    "Thread B tries to acquire Resource X, but it is already held by Thread A.\"\"\"\n",
    "################################################\n",
    "\"\"\"Race Conditions:\n",
    "A race condition occurs when the behavior of a program depends on the relative timing or interleaving of multiple\n",
    "threads or processes. It arises when multiple threads or processes access and manipulate shared resources \n",
    "concurrently, and the final outcome of the program becomes dependent on the specific order of their execution.\n",
    "\n",
    "Race conditions can result in unexpected and incorrect behavior. Here's an example:\n",
    "\n",
    "Two threads, Thread A and Thread B, increment a shared variable counter.\n",
    "Thread A reads the value of counter as 3.\n",
    "Thread B also reads the value of counter as 3.\n",
    "Thread A increments counter to 4.\n",
    "Thread B increments counter to 4.\"\"\""
   ]
  }
 ],
 "metadata": {
  "kernelspec": {
   "display_name": "Python 3 (ipykernel)",
   "language": "python",
   "name": "python3"
  },
  "language_info": {
   "codemirror_mode": {
    "name": "ipython",
    "version": 3
   },
   "file_extension": ".py",
   "mimetype": "text/x-python",
   "name": "python",
   "nbconvert_exporter": "python",
   "pygments_lexer": "ipython3",
   "version": "3.10.8"
  },
  "toc-autonumbering": true,
  "toc-showcode": true,
  "toc-showmarkdowntxt": true
 },
 "nbformat": 4,
 "nbformat_minor": 5
}
